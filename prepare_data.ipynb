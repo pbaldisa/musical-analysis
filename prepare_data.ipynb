{
 "cells": [
  {
   "cell_type": "code",
   "execution_count": 30,
   "metadata": {},
   "outputs": [],
   "source": [
    "import pandas as pd\n",
    "import numpy as np"
   ]
  },
  {
   "cell_type": "code",
   "execution_count": 31,
   "metadata": {},
   "outputs": [],
   "source": [
    "df = pd.read_csv(\"./scripts_cleaning_successes/datasets/successes_with_artists.csv\")"
   ]
  },
  {
   "cell_type": "code",
   "execution_count": 35,
   "metadata": {},
   "outputs": [],
   "source": [
    "def drop_specific_cols(df, cols):\n",
    "    df = df.drop(cols,axis=1)\n",
    "    return df\n",
    "\n",
    "def billboard_success(df):\n",
    "    df.loc[df[\"e_billboard\"] > 0, \"e_billboard\"] = 1\n",
    "    return df\n",
    "\n",
    "def get_success_classification(df):\n",
    "    #set as success all those above 60%\n",
    "    df.loc[df[\"e_billboard\"] > df[\"e_billboard\"].quantile(0.6), \"e_billboard\"] = 1\n",
    "    #set as success all those above the third quartile\n",
    "    df[\"e_spotify\"] = np.where(df[\"e_spotify\"] < df[\"e_spotify\"].quantile(0.75), 0, 1)\n",
    "    #set as success all those which have won at least one grammy\n",
    "    df.loc[df[\"e_grammy\"] > 0, \"e_grammy\"] = 1\n",
    "    \n",
    "    return df"
   ]
  },
  {
   "cell_type": "markdown",
   "metadata": {},
   "source": [
    "<h1>Clean data to use in the regression models"
   ]
  },
  {
   "cell_type": "code",
   "execution_count": 36,
   "metadata": {},
   "outputs": [],
   "source": [
    "columns = ['Unnamed: 0', 'danceability','energy', 'artist_familiarity', 'artist_hotttnesss', 'artist_latitude', 'artist_location', 'artist_longitude', 'release', 'song_hotttnesss', 'title', 'year']\n",
    "cleaned_df = drop_specific_cols(df, columns)\n",
    "cleaned_df.to_csv(\"final_data.csv\", index=False)"
   ]
  },
  {
   "cell_type": "markdown",
   "metadata": {},
   "source": [
    "<h1>Categorise success to compare boxplots in binary classification"
   ]
  },
  {
   "cell_type": "code",
   "execution_count": 38,
   "metadata": {},
   "outputs": [],
   "source": [
    "columns = ['Unnamed: 0', 'danceability','energy', 'artist_familiarity', 'artist_hotttnesss', 'artist_latitude', 'artist_location', 'artist_longitude', 'release', 'song_hotttnesss', 'title', 'year']\n",
    "cleaned_df = drop_specific_cols(df, columns)\n",
    "binary_df = get_success_classification(cleaned_df)\n",
    "binary_df.to_csv(\"binary_final_data.csv\", index=False)"
   ]
  },
  {
   "cell_type": "code",
   "execution_count": null,
   "metadata": {},
   "outputs": [],
   "source": []
  }
 ],
 "metadata": {
  "interpreter": {
   "hash": "916dbcbb3f70747c44a77c7bcd40155683ae19c65e1c03b4aa3499c5328201f1"
  },
  "kernelspec": {
   "display_name": "Python 3.9.7 64-bit",
   "language": "python",
   "name": "python3"
  },
  "language_info": {
   "codemirror_mode": {
    "name": "ipython",
    "version": 3
   },
   "file_extension": ".py",
   "mimetype": "text/x-python",
   "name": "python",
   "nbconvert_exporter": "python",
   "pygments_lexer": "ipython3",
   "version": "3.9.7"
  },
  "orig_nbformat": 4
 },
 "nbformat": 4,
 "nbformat_minor": 2
}

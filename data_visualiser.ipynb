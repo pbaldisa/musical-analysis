{
 "cells": [
  {
   "cell_type": "code",
   "execution_count": 150,
   "metadata": {},
   "outputs": [],
   "source": [
    "import pandas as pd\n",
    "import numpy as np\n",
    "import seaborn as sns\n",
    "import matplotlib.pyplot as plt\n",
    "from sklearn.linear_model import LinearRegression"
   ]
  },
  {
   "cell_type": "code",
   "execution_count": 182,
   "metadata": {},
   "outputs": [],
   "source": [
    "def linear_regression_model(df, variable):\n",
    "    model = LinearRegression()\n",
    "    x = df[variable].values.reshape((-1, 1))\n",
    "    y = df.e_spotify.values\n",
    "    model.fit(x,y)\n",
    "    r_sq = model.score(x, y)\n",
    "    print(f\"Coeficient de determinació: {r_sq}\")\n",
    "    return model"
   ]
  },
  {
   "cell_type": "markdown",
   "metadata": {},
   "source": [
    "<h1>Michael Jackson\n"
   ]
  },
  {
   "cell_type": "code",
   "execution_count": 183,
   "metadata": {},
   "outputs": [
    {
     "data": {
      "text/html": [
       "<div>\n",
       "<style scoped>\n",
       "    .dataframe tbody tr th:only-of-type {\n",
       "        vertical-align: middle;\n",
       "    }\n",
       "\n",
       "    .dataframe tbody tr th {\n",
       "        vertical-align: top;\n",
       "    }\n",
       "\n",
       "    .dataframe thead th {\n",
       "        text-align: right;\n",
       "    }\n",
       "</style>\n",
       "<table border=\"1\" class=\"dataframe\">\n",
       "  <thead>\n",
       "    <tr style=\"text-align: right;\">\n",
       "      <th></th>\n",
       "      <th>duration</th>\n",
       "      <th>end_of_fade_in</th>\n",
       "      <th>key</th>\n",
       "      <th>loudness</th>\n",
       "      <th>mode</th>\n",
       "      <th>start_of_fade_out</th>\n",
       "      <th>tempo</th>\n",
       "      <th>time_signature</th>\n",
       "      <th>e_grammy</th>\n",
       "      <th>e_billboard</th>\n",
       "      <th>e_spotify</th>\n",
       "    </tr>\n",
       "  </thead>\n",
       "  <tbody>\n",
       "    <tr>\n",
       "      <th>count</th>\n",
       "      <td>76.000000</td>\n",
       "      <td>76.000000</td>\n",
       "      <td>76.000000</td>\n",
       "      <td>76.000000</td>\n",
       "      <td>76.000000</td>\n",
       "      <td>76.000000</td>\n",
       "      <td>76.000000</td>\n",
       "      <td>76.000000</td>\n",
       "      <td>76.000000</td>\n",
       "      <td>76.000000</td>\n",
       "      <td>76.000000</td>\n",
       "    </tr>\n",
       "    <tr>\n",
       "      <th>mean</th>\n",
       "      <td>245.440578</td>\n",
       "      <td>1.283855</td>\n",
       "      <td>4.881579</td>\n",
       "      <td>-8.079566</td>\n",
       "      <td>0.684211</td>\n",
       "      <td>234.921947</td>\n",
       "      <td>122.434487</td>\n",
       "      <td>3.934211</td>\n",
       "      <td>0.039474</td>\n",
       "      <td>20.039474</td>\n",
       "      <td>37.486842</td>\n",
       "    </tr>\n",
       "    <tr>\n",
       "      <th>std</th>\n",
       "      <td>75.852177</td>\n",
       "      <td>2.600139</td>\n",
       "      <td>3.840025</td>\n",
       "      <td>3.081329</td>\n",
       "      <td>0.467918</td>\n",
       "      <td>76.360436</td>\n",
       "      <td>33.437170</td>\n",
       "      <td>1.147002</td>\n",
       "      <td>0.255123</td>\n",
       "      <td>41.066269</td>\n",
       "      <td>16.520285</td>\n",
       "    </tr>\n",
       "    <tr>\n",
       "      <th>min</th>\n",
       "      <td>127.503220</td>\n",
       "      <td>0.000000</td>\n",
       "      <td>0.000000</td>\n",
       "      <td>-14.254000</td>\n",
       "      <td>0.000000</td>\n",
       "      <td>124.116000</td>\n",
       "      <td>64.055000</td>\n",
       "      <td>1.000000</td>\n",
       "      <td>0.000000</td>\n",
       "      <td>0.000000</td>\n",
       "      <td>14.000000</td>\n",
       "    </tr>\n",
       "    <tr>\n",
       "      <th>25%</th>\n",
       "      <td>193.586485</td>\n",
       "      <td>0.154000</td>\n",
       "      <td>1.000000</td>\n",
       "      <td>-9.762500</td>\n",
       "      <td>0.000000</td>\n",
       "      <td>183.257750</td>\n",
       "      <td>100.263000</td>\n",
       "      <td>4.000000</td>\n",
       "      <td>0.000000</td>\n",
       "      <td>0.000000</td>\n",
       "      <td>23.000000</td>\n",
       "    </tr>\n",
       "    <tr>\n",
       "      <th>50%</th>\n",
       "      <td>220.381590</td>\n",
       "      <td>0.395000</td>\n",
       "      <td>5.000000</td>\n",
       "      <td>-8.546000</td>\n",
       "      <td>1.000000</td>\n",
       "      <td>212.282500</td>\n",
       "      <td>116.681000</td>\n",
       "      <td>4.000000</td>\n",
       "      <td>0.000000</td>\n",
       "      <td>0.000000</td>\n",
       "      <td>36.500000</td>\n",
       "    </tr>\n",
       "    <tr>\n",
       "      <th>75%</th>\n",
       "      <td>278.569345</td>\n",
       "      <td>0.979250</td>\n",
       "      <td>8.000000</td>\n",
       "      <td>-6.120250</td>\n",
       "      <td>1.000000</td>\n",
       "      <td>269.277500</td>\n",
       "      <td>139.063750</td>\n",
       "      <td>4.000000</td>\n",
       "      <td>0.000000</td>\n",
       "      <td>0.000000</td>\n",
       "      <td>48.250000</td>\n",
       "    </tr>\n",
       "    <tr>\n",
       "      <th>max</th>\n",
       "      <td>480.626490</td>\n",
       "      <td>18.895000</td>\n",
       "      <td>11.000000</td>\n",
       "      <td>-1.000000</td>\n",
       "      <td>1.000000</td>\n",
       "      <td>474.465000</td>\n",
       "      <td>207.589000</td>\n",
       "      <td>7.000000</td>\n",
       "      <td>2.000000</td>\n",
       "      <td>125.000000</td>\n",
       "      <td>81.000000</td>\n",
       "    </tr>\n",
       "  </tbody>\n",
       "</table>\n",
       "</div>"
      ],
      "text/plain": [
       "         duration  end_of_fade_in        key   loudness       mode  \\\n",
       "count   76.000000       76.000000  76.000000  76.000000  76.000000   \n",
       "mean   245.440578        1.283855   4.881579  -8.079566   0.684211   \n",
       "std     75.852177        2.600139   3.840025   3.081329   0.467918   \n",
       "min    127.503220        0.000000   0.000000 -14.254000   0.000000   \n",
       "25%    193.586485        0.154000   1.000000  -9.762500   0.000000   \n",
       "50%    220.381590        0.395000   5.000000  -8.546000   1.000000   \n",
       "75%    278.569345        0.979250   8.000000  -6.120250   1.000000   \n",
       "max    480.626490       18.895000  11.000000  -1.000000   1.000000   \n",
       "\n",
       "       start_of_fade_out       tempo  time_signature   e_grammy  e_billboard  \\\n",
       "count          76.000000   76.000000       76.000000  76.000000    76.000000   \n",
       "mean          234.921947  122.434487        3.934211   0.039474    20.039474   \n",
       "std            76.360436   33.437170        1.147002   0.255123    41.066269   \n",
       "min           124.116000   64.055000        1.000000   0.000000     0.000000   \n",
       "25%           183.257750  100.263000        4.000000   0.000000     0.000000   \n",
       "50%           212.282500  116.681000        4.000000   0.000000     0.000000   \n",
       "75%           269.277500  139.063750        4.000000   0.000000     0.000000   \n",
       "max           474.465000  207.589000        7.000000   2.000000   125.000000   \n",
       "\n",
       "       e_spotify  \n",
       "count  76.000000  \n",
       "mean   37.486842  \n",
       "std    16.520285  \n",
       "min    14.000000  \n",
       "25%    23.000000  \n",
       "50%    36.500000  \n",
       "75%    48.250000  \n",
       "max    81.000000  "
      ]
     },
     "execution_count": 183,
     "metadata": {},
     "output_type": "execute_result"
    }
   ],
   "source": [
    "df = pd.read_csv('./final_data.csv')\n",
    "df = df[df['artist_name'] == 'Michael Jackson']\n",
    "df.describe()"
   ]
  },
  {
   "cell_type": "markdown",
   "metadata": {},
   "source": [
    "<h2>Visualise Duration vs Billboard Success and Spotify Success "
   ]
  },
  {
   "cell_type": "code",
   "execution_count": 184,
   "metadata": {},
   "outputs": [
    {
     "name": "stdout",
     "output_type": "stream",
     "text": [
      "Coeficient de determinació: 0.376775264254405\n"
     ]
    }
   ],
   "source": [
    "model = linear_regression_model(df, 'duration')"
   ]
  },
  {
   "cell_type": "code",
   "execution_count": 185,
   "metadata": {},
   "outputs": [
    {
     "data": {
      "text/plain": [
       "<AxesSubplot:xlabel='duration', ylabel='e_spotify'>"
      ]
     },
     "execution_count": 185,
     "metadata": {},
     "output_type": "execute_result"
    },
    {
     "data": {
      "image/png": "[encoded data removed]",
      "text/plain": [
       "<Figure size 432x288 with 1 Axes>"
      ]
     },
     "metadata": {
      "needs_background": "light"
     },
     "output_type": "display_data"
    }
   ],
   "source": [
    "#df.plot(x ='duration', y='e_billboard', kind = 'scatter')\n",
    "df.plot(x ='duration', y='e_spotify', kind = 'scatter')"
   ]
  },
  {
   "cell_type": "markdown",
   "metadata": {},
   "source": [
    "<h1>Visualise Key vs Billboard Success and Spotify Success"
   ]
  },
  {
   "cell_type": "code",
   "execution_count": 186,
   "metadata": {},
   "outputs": [
    {
     "name": "stdout",
     "output_type": "stream",
     "text": [
      "Coeficient de determinació: 0.04967052034446373\n"
     ]
    }
   ],
   "source": [
    "model = linear_regression_model(df, 'key')"
   ]
  },
  {
   "cell_type": "code",
   "execution_count": 187,
   "metadata": {},
   "outputs": [
    {
     "data": {
      "text/plain": [
       "<AxesSubplot:xlabel='key', ylabel='e_spotify'>"
      ]
     },
     "execution_count": 187,
     "metadata": {},
     "output_type": "execute_result"
    },
    {
     "data": {
      "image/png": "[encoded data removed]",
      "text/plain": [
       "<Figure size 432x288 with 1 Axes>"
      ]
     },
     "metadata": {
      "needs_background": "light"
     },
     "output_type": "display_data"
    }
   ],
   "source": [
    "#df.plot(x ='key', y='e_billboard', kind = 'scatter')\n",
    "df.plot(x ='key', y='e_spotify', kind = 'scatter')"
   ]
  },
  {
   "cell_type": "markdown",
   "metadata": {},
   "source": [
    "<h1>Visualise Loudness vs Billboard Success and Spotify Success"
   ]
  },
  {
   "cell_type": "code",
   "execution_count": 213,
   "metadata": {},
   "outputs": [
    {
     "name": "stdout",
     "output_type": "stream",
     "text": [
      "Coeficient de determinació: 0.01107556778136487\n"
     ]
    }
   ],
   "source": [
    "model = linear_regression_model(df, 'loudness')"
   ]
  },
  {
   "cell_type": "code",
   "execution_count": 217,
   "metadata": {},
   "outputs": [
    {
     "data": {
      "text/plain": [
       "<AxesSubplot:xlabel='loudness', ylabel='e_spotify'>"
      ]
     },
     "execution_count": 217,
     "metadata": {},
     "output_type": "execute_result"
    },
    {
     "data": {
      "image/png": "[encoded data removed]",
      "text/plain": [
       "<Figure size 432x288 with 1 Axes>"
      ]
     },
     "metadata": {
      "needs_background": "light"
     },
     "output_type": "display_data"
    }
   ],
   "source": [
    "#df.plot(x ='loudness', y='e_billboard', kind = 'scatter')\n",
    "df.plot(x ='loudness', y='e_spotify', kind = 'scatter')\n"
   ]
  },
  {
   "cell_type": "markdown",
   "metadata": {},
   "source": [
    "<h1>Visualise Mode vs Billboard Success and Spotify Success"
   ]
  },
  {
   "cell_type": "code",
   "execution_count": 190,
   "metadata": {},
   "outputs": [
    {
     "name": "stdout",
     "output_type": "stream",
     "text": [
      "Coeficient de determinació: 0.01919130578983752\n"
     ]
    }
   ],
   "source": [
    "model = linear_regression_model(df, 'mode')"
   ]
  },
  {
   "cell_type": "code",
   "execution_count": 191,
   "metadata": {},
   "outputs": [
    {
     "data": {
      "text/plain": [
       "<AxesSubplot:xlabel='mode', ylabel='e_spotify'>"
      ]
     },
     "execution_count": 191,
     "metadata": {},
     "output_type": "execute_result"
    },
    {
     "data": {
      "image/png": "[encoded data removed]",
      "text/plain": [
       "<Figure size 432x288 with 1 Axes>"
      ]
     },
     "metadata": {
      "needs_background": "light"
     },
     "output_type": "display_data"
    }
   ],
   "source": [
    "#df.plot(x ='mode', y='e_billboard', kind = 'scatter')\n",
    "df.plot(x ='mode', y='e_spotify', kind = 'scatter')"
   ]
  },
  {
   "cell_type": "markdown",
   "metadata": {},
   "source": [
    "<h1>Visualise end_of_fade_in vs Billboard Success and Spotify Success"
   ]
  },
  {
   "cell_type": "code",
   "execution_count": 192,
   "metadata": {},
   "outputs": [
    {
     "name": "stdout",
     "output_type": "stream",
     "text": [
      "Coeficient de determinació: 0.0027205758047210704\n"
     ]
    }
   ],
   "source": [
    "model = linear_regression_model(df, 'end_of_fade_in')"
   ]
  },
  {
   "cell_type": "code",
   "execution_count": 193,
   "metadata": {},
   "outputs": [
    {
     "data": {
      "text/plain": [
       "<AxesSubplot:xlabel='end_of_fade_in', ylabel='e_spotify'>"
      ]
     },
     "execution_count": 193,
     "metadata": {},
     "output_type": "execute_result"
    },
    {
     "data": {
      "image/png": "[encoded data removed]",
      "text/plain": [
       "<Figure size 432x288 with 1 Axes>"
      ]
     },
     "metadata": {
      "needs_background": "light"
     },
     "output_type": "display_data"
    }
   ],
   "source": [
    "#df.plot(x = 'end_of_fade_in', y = 'e_billboard', kind = 'scatter')\n",
    "df.plot(x = 'end_of_fade_in', y = 'e_spotify', kind = 'scatter')"
   ]
  },
  {
   "cell_type": "markdown",
   "metadata": {},
   "source": [
    "<h1>Visualise Tempo vs Billboard Success and Spotify Success"
   ]
  },
  {
   "cell_type": "code",
   "execution_count": 194,
   "metadata": {},
   "outputs": [
    {
     "name": "stdout",
     "output_type": "stream",
     "text": [
      "Coeficient de determinació: 0.016359895928788837\n"
     ]
    }
   ],
   "source": [
    "model = linear_regression_model(df, 'tempo')"
   ]
  },
  {
   "cell_type": "code",
   "execution_count": 195,
   "metadata": {},
   "outputs": [
    {
     "data": {
      "text/plain": [
       "<AxesSubplot:xlabel='tempo', ylabel='e_spotify'>"
      ]
     },
     "execution_count": 195,
     "metadata": {},
     "output_type": "execute_result"
    },
    {
     "data": {
      "image/png": "[encoded data removed]",
      "text/plain": [
       "<Figure size 432x288 with 1 Axes>"
      ]
     },
     "metadata": {
      "needs_background": "light"
     },
     "output_type": "display_data"
    }
   ],
   "source": [
    "#df.plot(x = 'tempo', y = 'e_billboard', kind = 'scatter')\n",
    "df.plot(x = 'tempo', y = 'e_spotify', kind = 'scatter')"
   ]
  },
  {
   "cell_type": "markdown",
   "metadata": {},
   "source": [
    "<h1>Visualise Time signature vs Billboard Success and Spotify Success"
   ]
  },
  {
   "cell_type": "code",
   "execution_count": 196,
   "metadata": {},
   "outputs": [
    {
     "name": "stdout",
     "output_type": "stream",
     "text": [
      "Coeficient de determinació: 0.022134229508029124\n"
     ]
    }
   ],
   "source": [
    "model = linear_regression_model(df, 'time_signature')"
   ]
  },
  {
   "cell_type": "code",
   "execution_count": 197,
   "metadata": {},
   "outputs": [
    {
     "data": {
      "text/plain": [
       "<AxesSubplot:xlabel='time_signature', ylabel='e_spotify'>"
      ]
     },
     "execution_count": 197,
     "metadata": {},
     "output_type": "execute_result"
    },
    {
     "data": {
      "image/png": "[encoded data removed]",
      "text/plain": [
       "<Figure size 432x288 with 1 Axes>"
      ]
     },
     "metadata": {
      "needs_background": "light"
     },
     "output_type": "display_data"
    }
   ],
   "source": [
    "#df.plot(x = 'time_signature', y = 'e_billboard', kind = 'scatter')\n",
    "df.plot(x = 'time_signature', y = 'e_spotify', kind = 'scatter')\n"
   ]
  },
  {
   "cell_type": "markdown",
   "metadata": {},
   "source": [
    "<h1>Eminem\n"
   ]
  },
  {
   "cell_type": "code",
   "execution_count": 198,
   "metadata": {},
   "outputs": [
    {
     "data": {
      "text/html": [
       "<div>\n",
       "<style scoped>\n",
       "    .dataframe tbody tr th:only-of-type {\n",
       "        vertical-align: middle;\n",
       "    }\n",
       "\n",
       "    .dataframe tbody tr th {\n",
       "        vertical-align: top;\n",
       "    }\n",
       "\n",
       "    .dataframe thead th {\n",
       "        text-align: right;\n",
       "    }\n",
       "</style>\n",
       "<table border=\"1\" class=\"dataframe\">\n",
       "  <thead>\n",
       "    <tr style=\"text-align: right;\">\n",
       "      <th></th>\n",
       "      <th>duration</th>\n",
       "      <th>end_of_fade_in</th>\n",
       "      <th>key</th>\n",
       "      <th>loudness</th>\n",
       "      <th>mode</th>\n",
       "      <th>start_of_fade_out</th>\n",
       "      <th>tempo</th>\n",
       "      <th>time_signature</th>\n",
       "      <th>e_grammy</th>\n",
       "      <th>e_billboard</th>\n",
       "      <th>e_spotify</th>\n",
       "    </tr>\n",
       "  </thead>\n",
       "  <tbody>\n",
       "    <tr>\n",
       "      <th>count</th>\n",
       "      <td>69.000000</td>\n",
       "      <td>69.000000</td>\n",
       "      <td>69.000000</td>\n",
       "      <td>69.000000</td>\n",
       "      <td>69.000000</td>\n",
       "      <td>69.000000</td>\n",
       "      <td>69.000000</td>\n",
       "      <td>69.000000</td>\n",
       "      <td>69.000000</td>\n",
       "      <td>69.000000</td>\n",
       "      <td>69.000000</td>\n",
       "    </tr>\n",
       "    <tr>\n",
       "      <th>mean</th>\n",
       "      <td>255.428260</td>\n",
       "      <td>0.450725</td>\n",
       "      <td>5.855072</td>\n",
       "      <td>-5.917319</td>\n",
       "      <td>0.594203</td>\n",
       "      <td>244.556304</td>\n",
       "      <td>121.600014</td>\n",
       "      <td>3.884058</td>\n",
       "      <td>0.043478</td>\n",
       "      <td>17.695652</td>\n",
       "      <td>50.927536</td>\n",
       "    </tr>\n",
       "    <tr>\n",
       "      <th>std</th>\n",
       "      <td>78.970256</td>\n",
       "      <td>1.136134</td>\n",
       "      <td>3.874029</td>\n",
       "      <td>4.038794</td>\n",
       "      <td>0.494643</td>\n",
       "      <td>75.867338</td>\n",
       "      <td>33.610623</td>\n",
       "      <td>0.738365</td>\n",
       "      <td>0.205425</td>\n",
       "      <td>38.563662</td>\n",
       "      <td>11.990583</td>\n",
       "    </tr>\n",
       "    <tr>\n",
       "      <th>min</th>\n",
       "      <td>29.805260</td>\n",
       "      <td>0.000000</td>\n",
       "      <td>0.000000</td>\n",
       "      <td>-24.945000</td>\n",
       "      <td>0.000000</td>\n",
       "      <td>29.805000</td>\n",
       "      <td>59.553000</td>\n",
       "      <td>1.000000</td>\n",
       "      <td>0.000000</td>\n",
       "      <td>0.000000</td>\n",
       "      <td>23.000000</td>\n",
       "    </tr>\n",
       "    <tr>\n",
       "      <th>25%</th>\n",
       "      <td>227.160360</td>\n",
       "      <td>0.000000</td>\n",
       "      <td>1.000000</td>\n",
       "      <td>-6.760000</td>\n",
       "      <td>0.000000</td>\n",
       "      <td>212.009000</td>\n",
       "      <td>90.992000</td>\n",
       "      <td>4.000000</td>\n",
       "      <td>0.000000</td>\n",
       "      <td>0.000000</td>\n",
       "      <td>45.000000</td>\n",
       "    </tr>\n",
       "    <tr>\n",
       "      <th>50%</th>\n",
       "      <td>267.258320</td>\n",
       "      <td>0.000000</td>\n",
       "      <td>7.000000</td>\n",
       "      <td>-4.941000</td>\n",
       "      <td>1.000000</td>\n",
       "      <td>254.862000</td>\n",
       "      <td>114.041000</td>\n",
       "      <td>4.000000</td>\n",
       "      <td>0.000000</td>\n",
       "      <td>0.000000</td>\n",
       "      <td>50.000000</td>\n",
       "    </tr>\n",
       "    <tr>\n",
       "      <th>75%</th>\n",
       "      <td>312.267300</td>\n",
       "      <td>0.276000</td>\n",
       "      <td>10.000000</td>\n",
       "      <td>-3.799000</td>\n",
       "      <td>1.000000</td>\n",
       "      <td>293.634000</td>\n",
       "      <td>156.982000</td>\n",
       "      <td>4.000000</td>\n",
       "      <td>0.000000</td>\n",
       "      <td>0.000000</td>\n",
       "      <td>55.000000</td>\n",
       "    </tr>\n",
       "    <tr>\n",
       "      <th>max</th>\n",
       "      <td>397.609340</td>\n",
       "      <td>6.908000</td>\n",
       "      <td>11.000000</td>\n",
       "      <td>-0.558000</td>\n",
       "      <td>1.000000</td>\n",
       "      <td>373.696000</td>\n",
       "      <td>184.045000</td>\n",
       "      <td>5.000000</td>\n",
       "      <td>1.000000</td>\n",
       "      <td>119.000000</td>\n",
       "      <td>86.000000</td>\n",
       "    </tr>\n",
       "  </tbody>\n",
       "</table>\n",
       "</div>"
      ],
      "text/plain": [
       "         duration  end_of_fade_in        key   loudness       mode  \\\n",
       "count   69.000000       69.000000  69.000000  69.000000  69.000000   \n",
       "mean   255.428260        0.450725   5.855072  -5.917319   0.594203   \n",
       "std     78.970256        1.136134   3.874029   4.038794   0.494643   \n",
       "min     29.805260        0.000000   0.000000 -24.945000   0.000000   \n",
       "25%    227.160360        0.000000   1.000000  -6.760000   0.000000   \n",
       "50%    267.258320        0.000000   7.000000  -4.941000   1.000000   \n",
       "75%    312.267300        0.276000  10.000000  -3.799000   1.000000   \n",
       "max    397.609340        6.908000  11.000000  -0.558000   1.000000   \n",
       "\n",
       "       start_of_fade_out       tempo  time_signature   e_grammy  e_billboard  \\\n",
       "count          69.000000   69.000000       69.000000  69.000000    69.000000   \n",
       "mean          244.556304  121.600014        3.884058   0.043478    17.695652   \n",
       "std            75.867338   33.610623        0.738365   0.205425    38.563662   \n",
       "min            29.805000   59.553000        1.000000   0.000000     0.000000   \n",
       "25%           212.009000   90.992000        4.000000   0.000000     0.000000   \n",
       "50%           254.862000  114.041000        4.000000   0.000000     0.000000   \n",
       "75%           293.634000  156.982000        4.000000   0.000000     0.000000   \n",
       "max           373.696000  184.045000        5.000000   1.000000   119.000000   \n",
       "\n",
       "       e_spotify  \n",
       "count  69.000000  \n",
       "mean   50.927536  \n",
       "std    11.990583  \n",
       "min    23.000000  \n",
       "25%    45.000000  \n",
       "50%    50.000000  \n",
       "75%    55.000000  \n",
       "max    86.000000  "
      ]
     },
     "execution_count": 198,
     "metadata": {},
     "output_type": "execute_result"
    }
   ],
   "source": [
    "df = pd.read_csv('./final_data.csv')\n",
    "df = df[df['artist_name'] == 'Eminem']\n",
    "df.describe()"
   ]
  },
  {
   "cell_type": "markdown",
   "metadata": {},
   "source": [
    "<h2>Visualise Duration vs Billboard Success and Spotify Success "
   ]
  },
  {
   "cell_type": "code",
   "execution_count": 199,
   "metadata": {},
   "outputs": [
    {
     "name": "stdout",
     "output_type": "stream",
     "text": [
      "Coeficient de determinació: 0.09550063238110562\n"
     ]
    }
   ],
   "source": [
    "model = linear_regression_model(df, 'duration')"
   ]
  },
  {
   "cell_type": "code",
   "execution_count": 200,
   "metadata": {},
   "outputs": [
    {
     "data": {
      "text/plain": [
       "<AxesSubplot:xlabel='duration', ylabel='e_spotify'>"
      ]
     },
     "execution_count": 200,
     "metadata": {},
     "output_type": "execute_result"
    },
    {
     "data": {
      "image/png": "[encoded data removed]",
      "text/plain": [
       "<Figure size 432x288 with 1 Axes>"
      ]
     },
     "metadata": {
      "needs_background": "light"
     },
     "output_type": "display_data"
    }
   ],
   "source": [
    "#df.plot(x ='duration', y='e_billboard', kind = 'scatter')\n",
    "df.plot(x ='duration', y='e_spotify', kind = 'scatter')\n"
   ]
  },
  {
   "cell_type": "markdown",
   "metadata": {},
   "source": [
    "<h1>Visualise Key vs Billboard Success and Spotify Success\n"
   ]
  },
  {
   "cell_type": "code",
   "execution_count": 201,
   "metadata": {},
   "outputs": [
    {
     "name": "stdout",
     "output_type": "stream",
     "text": [
      "Coeficient de determinació: 0.0005529240009249925\n"
     ]
    }
   ],
   "source": [
    "model = linear_regression_model(df, 'key')"
   ]
  },
  {
   "cell_type": "code",
   "execution_count": 202,
   "metadata": {},
   "outputs": [
    {
     "data": {
      "text/plain": [
       "<AxesSubplot:xlabel='key', ylabel='e_spotify'>"
      ]
     },
     "execution_count": 202,
     "metadata": {},
     "output_type": "execute_result"
    },
    {
     "data": {
      "image/png": "[encoded data removed]",
      "text/plain": [
       "<Figure size 432x288 with 1 Axes>"
      ]
     },
     "metadata": {
      "needs_background": "light"
     },
     "output_type": "display_data"
    }
   ],
   "source": [
    "#df.plot(x ='key', y='e_billboard', kind = 'scatter')\n",
    "df.plot(x ='key', y='e_spotify', kind = 'scatter')\n"
   ]
  },
  {
   "cell_type": "markdown",
   "metadata": {},
   "source": [
    "<h1>Visualise Loudness vs Billboard Success and Spotify Success\n"
   ]
  },
  {
   "cell_type": "code",
   "execution_count": 203,
   "metadata": {},
   "outputs": [
    {
     "name": "stdout",
     "output_type": "stream",
     "text": [
      "Coeficient de determinació: 0.01107556778136487\n"
     ]
    }
   ],
   "source": [
    "model = linear_regression_model(df, 'loudness')"
   ]
  },
  {
   "cell_type": "code",
   "execution_count": 204,
   "metadata": {},
   "outputs": [
    {
     "data": {
      "text/plain": [
       "<AxesSubplot:xlabel='loudness', ylabel='e_spotify'>"
      ]
     },
     "execution_count": 204,
     "metadata": {},
     "output_type": "execute_result"
    },
    {
     "data": {
      "image/png": "[encoded data removed]",
      "text/plain": [
       "<Figure size 432x288 with 1 Axes>"
      ]
     },
     "metadata": {
      "needs_background": "light"
     },
     "output_type": "display_data"
    }
   ],
   "source": [
    "#df.plot(x ='loudness', y='e_billboard', kind = 'scatter')\n",
    "df.plot(x ='loudness', y='e_spotify', kind = 'scatter')"
   ]
  },
  {
   "cell_type": "markdown",
   "metadata": {},
   "source": [
    "<h1>Visualise Mode vs Billboard Success and Spotify Success\n"
   ]
  },
  {
   "cell_type": "code",
   "execution_count": 205,
   "metadata": {},
   "outputs": [
    {
     "name": "stdout",
     "output_type": "stream",
     "text": [
      "Coeficient de determinació: 0.0013779077523514704\n"
     ]
    }
   ],
   "source": [
    "model = linear_regression_model(df, 'mode')"
   ]
  },
  {
   "cell_type": "code",
   "execution_count": 206,
   "metadata": {},
   "outputs": [
    {
     "data": {
      "text/plain": [
       "<AxesSubplot:xlabel='mode', ylabel='e_spotify'>"
      ]
     },
     "execution_count": 206,
     "metadata": {},
     "output_type": "execute_result"
    },
    {
     "data": {
      "image/png": "[encoded data removed]",
      "text/plain": [
       "<Figure size 432x288 with 1 Axes>"
      ]
     },
     "metadata": {
      "needs_background": "light"
     },
     "output_type": "display_data"
    }
   ],
   "source": [
    "#df.plot(x ='mode', y='e_billboard', kind = 'scatter')\n",
    "df.plot(x ='mode', y='e_spotify', kind = 'scatter')\n"
   ]
  },
  {
   "cell_type": "markdown",
   "metadata": {},
   "source": [
    "<h1>Visualise end_of_fade_in vs Billboard Success and Spotify Success\n"
   ]
  },
  {
   "cell_type": "code",
   "execution_count": 207,
   "metadata": {},
   "outputs": [
    {
     "name": "stdout",
     "output_type": "stream",
     "text": [
      "Coeficient de determinació: 0.000415045236148992\n"
     ]
    }
   ],
   "source": [
    "model = linear_regression_model(df, 'end_of_fade_in')"
   ]
  },
  {
   "cell_type": "code",
   "execution_count": 208,
   "metadata": {},
   "outputs": [
    {
     "data": {
      "text/plain": [
       "<AxesSubplot:xlabel='end_of_fade_in', ylabel='e_spotify'>"
      ]
     },
     "execution_count": 208,
     "metadata": {},
     "output_type": "execute_result"
    },
    {
     "data": {
      "image/png": "[encoded data removed]",
      "text/plain": [
       "<Figure size 432x288 with 1 Axes>"
      ]
     },
     "metadata": {
      "needs_background": "light"
     },
     "output_type": "display_data"
    }
   ],
   "source": [
    "#df.plot(x = 'end_of_fade_in', y = 'e_billboard', kind = 'scatter')\n",
    "df.plot(x = 'end_of_fade_in', y = 'e_spotify', kind = 'scatter')\n"
   ]
  },
  {
   "cell_type": "markdown",
   "metadata": {},
   "source": [
    "<h1>Visualise Tempo vs Billboard Success and Spotify Success\n"
   ]
  },
  {
   "cell_type": "code",
   "execution_count": 209,
   "metadata": {},
   "outputs": [
    {
     "name": "stdout",
     "output_type": "stream",
     "text": [
      "Coeficient de determinació: 0.017139995721213053\n"
     ]
    }
   ],
   "source": [
    "model = linear_regression_model(df, 'tempo')"
   ]
  },
  {
   "cell_type": "code",
   "execution_count": 210,
   "metadata": {},
   "outputs": [
    {
     "data": {
      "text/plain": [
       "<AxesSubplot:xlabel='tempo', ylabel='e_spotify'>"
      ]
     },
     "execution_count": 210,
     "metadata": {},
     "output_type": "execute_result"
    },
    {
     "data": {
      "image/png": "[encoded data removed]",
      "text/plain": [
       "<Figure size 432x288 with 1 Axes>"
      ]
     },
     "metadata": {
      "needs_background": "light"
     },
     "output_type": "display_data"
    }
   ],
   "source": [
    "#df.plot(x = 'tempo', y = 'e_billboard', kind = 'scatter')\n",
    "df.plot(x = 'tempo', y = 'e_spotify', kind = 'scatter')\n"
   ]
  },
  {
   "cell_type": "markdown",
   "metadata": {},
   "source": [
    "<h1>Visualise Time signature vs Billboard Success and Spotify Success\n"
   ]
  },
  {
   "cell_type": "code",
   "execution_count": 211,
   "metadata": {},
   "outputs": [
    {
     "name": "stdout",
     "output_type": "stream",
     "text": [
      "Coeficient de determinació: 1.8361191200577665e-05\n"
     ]
    }
   ],
   "source": [
    "model = linear_regression_model(df, 'time_signature')"
   ]
  },
  {
   "cell_type": "code",
   "execution_count": 212,
   "metadata": {},
   "outputs": [
    {
     "data": {
      "text/plain": [
       "<AxesSubplot:xlabel='time_signature', ylabel='e_spotify'>"
      ]
     },
     "execution_count": 212,
     "metadata": {},
     "output_type": "execute_result"
    },
    {
     "data": {
      "image/png": "[encoded data removed]",
      "text/plain": [
       "<Figure size 432x288 with 1 Axes>"
      ]
     },
     "metadata": {
      "needs_background": "light"
     },
     "output_type": "display_data"
    }
   ],
   "source": [
    "#df.plot(x = 'time_signature', y = 'e_billboard', kind = 'scatter')\n",
    "df.plot(x = 'time_signature', y = 'e_spotify', kind = 'scatter')\n"
   ]
  }
 ],
 "metadata": {
  "interpreter": {
   "hash": "9cdacb074fd413ed432059c098981130e26492064e7604b5b2bccceb261aadee"
  },
  "kernelspec": {
   "display_name": "Python 3.8.10 64-bit (windows store)",
   "language": "python",
   "name": "python3"
  },
  "language_info": {
   "codemirror_mode": {
    "name": "ipython",
    "version": 3
   },
   "file_extension": ".py",
   "mimetype": "text/x-python",
   "name": "python",
   "nbconvert_exporter": "python",
   "pygments_lexer": "ipython3",
   "version": "3.8.10"
  },
  "orig_nbformat": 4
 },
 "nbformat": 4,
 "nbformat_minor": 2
}

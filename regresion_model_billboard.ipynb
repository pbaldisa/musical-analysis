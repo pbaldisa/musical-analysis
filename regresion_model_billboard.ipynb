{
 "cells": [
  {
   "cell_type": "code",
   "execution_count": 1,
   "metadata": {},
   "outputs": [],
   "source": [
    "import pandas as pd\n",
    "from sklearn.model_selection import train_test_split\n",
    "from sklearn.ensemble import RandomForestRegressor\n",
    "from sklearn.svm import SVC\n",
    "from sklearn.neighbors import KNeighborsClassifier\n",
    "from sklearn.linear_model import LogisticRegression\n",
    "from sklearn.metrics import mean_absolute_error\n",
    "from sklearn.metrics import classification_report, confusion_matrix, accuracy_score\n",
    "from sklearn.metrics import ConfusionMatrixDisplay\n",
    "from sklearn.metrics import r2_score\n",
    "from sklearn.metrics import mean_squared_error\n",
    "from sklearn.pipeline import make_pipeline\n",
    "from sklearn.preprocessing import StandardScaler\n",
    "import matplotlib.pyplot as plt\n",
    "import math"
   ]
  },
  {
   "cell_type": "code",
   "execution_count": 2,
   "metadata": {},
   "outputs": [],
   "source": [
    "billboard_df = pd.read_csv('./artist_data.csv')"
   ]
  },
  {
   "cell_type": "code",
   "execution_count": 3,
   "metadata": {},
   "outputs": [],
   "source": [
    "def drop_specific_cols(df, cols):\n",
    "    df = df.drop(cols,axis=1)\n",
    "    return df\n",
    "\n",
    "def results(y, preds):\n",
    "    print('R² score: \\n',r2_score(y,preds))\n",
    "    print('RSME: \\n',math.sqrt(mean_squared_error(y,preds)))\n",
    "    print('MAE: \\n',mean_absolute_error(y,preds))\n"
   ]
  },
  {
   "cell_type": "code",
   "execution_count": 4,
   "metadata": {},
   "outputs": [],
   "source": [
    "billboard_df = drop_specific_cols(billboard_df, ['e_spotify', 'e_grammy'])"
   ]
  },
  {
   "cell_type": "code",
   "execution_count": 5,
   "metadata": {},
   "outputs": [],
   "source": [
    "#variable to predict\n",
    "y = billboard_df.e_billboard"
   ]
  },
  {
   "cell_type": "code",
   "execution_count": 6,
   "metadata": {},
   "outputs": [],
   "source": [
    "#features\n",
    "#we do not consider 'key' based on boxplot observation (title and artist name are not physical variables)\n",
    "billboard_features = ['duration', 'end_of_fade_in', 'loudness', 'mode','start_of_fade_out', 'tempo', 'time_signature','artist_hotttnesss']\n",
    "X = billboard_df[billboard_features]"
   ]
  },
  {
   "cell_type": "code",
   "execution_count": 7,
   "metadata": {},
   "outputs": [],
   "source": [
    "train_X, val_X, train_y, val_y = train_test_split(X, y,random_state = 0, test_size=0.25)"
   ]
  },
  {
   "cell_type": "code",
   "execution_count": 10,
   "metadata": {},
   "outputs": [
    {
     "name": "stdout",
     "output_type": "stream",
     "text": [
      "[26.73 54.45  9.9 ]\n"
     ]
    }
   ],
   "source": [
    "forest_model = RandomForestRegressor(random_state=1)\n",
    "forest_model.fit(train_X, train_y)\n",
    "rf_billboard_preds = forest_model.predict(val_X)\n",
    "print(rf_billboard_preds)"
   ]
  },
  {
   "cell_type": "code",
   "execution_count": 9,
   "metadata": {},
   "outputs": [
    {
     "name": "stdout",
     "output_type": "stream",
     "text": [
      "R² score: \n",
      " -0.18707649863760234\n",
      "RSME: \n",
      " 52.06491268919341\n",
      "MAE: \n",
      " 39.20666666666667\n"
     ]
    }
   ],
   "source": [
    "results(val_y, rf_billboard_preds)"
   ]
  },
  {
   "cell_type": "code",
   "execution_count": 10,
   "metadata": {},
   "outputs": [],
   "source": [
    "train_X, val_X, train_y, val_y = train_test_split(X, y,random_state = 0, test_size=0.25)\n",
    "scaler = StandardScaler()\n",
    "scaler.fit(train_X)\n",
    "\n",
    "train_X = scaler.transform(train_X)\n",
    "val_X = scaler.transform(val_X)"
   ]
  },
  {
   "cell_type": "code",
   "execution_count": 11,
   "metadata": {},
   "outputs": [],
   "source": [
    "svm_model = SVC(kernel='sigmoid', random_state=1)\n",
    "svm_model.fit(train_X, train_y)\n",
    "svm_billboard_preds = svm_model.predict(val_X)"
   ]
  },
  {
   "cell_type": "code",
   "execution_count": 12,
   "metadata": {},
   "outputs": [
    {
     "name": "stdout",
     "output_type": "stream",
     "text": [
      "Matrix confusion:\n"
     ]
    },
    {
     "data": {
      "image/png": "[encoded data removed]",
      "text/plain": [
       "<Figure size 432x288 with 2 Axes>"
      ]
     },
     "metadata": {
      "needs_background": "light"
     },
     "output_type": "display_data"
    },
    {
     "name": "stdout",
     "output_type": "stream",
     "text": [
      "Classification report: \n",
      "               precision    recall  f1-score   support\n",
      "\n",
      "         0.0       0.98      0.98      0.98      3975\n",
      "         1.0       0.02      0.01      0.01        88\n",
      "\n",
      "    accuracy                           0.96      4063\n",
      "   macro avg       0.50      0.50      0.50      4063\n",
      "weighted avg       0.96      0.96      0.96      4063\n",
      "\n",
      "Accuracy score: \n",
      " 0.9635737140044303\n",
      "Absolute error:\n",
      " 0.036426285995569775\n"
     ]
    }
   ],
   "source": [
    "results(val_y, svm_billboard_preds)"
   ]
  },
  {
   "cell_type": "code",
   "execution_count": 13,
   "metadata": {},
   "outputs": [],
   "source": [
    "train_X, val_X, train_y, val_y = train_test_split(X, y,random_state = 0, test_size=0.25)\n",
    "scaler = StandardScaler()\n",
    "scaler.fit(train_X)\n",
    "\n",
    "train_X = scaler.transform(train_X)\n",
    "val_X = scaler.transform(val_X)"
   ]
  },
  {
   "cell_type": "code",
   "execution_count": 14,
   "metadata": {},
   "outputs": [],
   "source": [
    "knn_model = KNeighborsClassifier(n_neighbors=5)\n",
    "knn_model.fit(train_X, train_y)\n",
    "knn_billboard_preds = knn_model.predict(val_X)"
   ]
  },
  {
   "cell_type": "code",
   "execution_count": 15,
   "metadata": {},
   "outputs": [
    {
     "name": "stdout",
     "output_type": "stream",
     "text": [
      "Matrix confusion:\n"
     ]
    },
    {
     "data": {
      "image/png": "[encoded data removed]",
      "text/plain": [
       "<Figure size 432x288 with 2 Axes>"
      ]
     },
     "metadata": {
      "needs_background": "light"
     },
     "output_type": "display_data"
    },
    {
     "name": "stdout",
     "output_type": "stream",
     "text": [
      "Classification report: \n",
      "               precision    recall  f1-score   support\n",
      "\n",
      "         0.0       0.98      1.00      0.99      3975\n",
      "         1.0       1.00      0.01      0.02        88\n",
      "\n",
      "    accuracy                           0.98      4063\n",
      "   macro avg       0.99      0.51      0.51      4063\n",
      "weighted avg       0.98      0.98      0.97      4063\n",
      "\n",
      "Accuracy score: \n",
      " 0.9785872507999015\n",
      "Absolute error:\n",
      " 0.02141274920009845\n"
     ]
    }
   ],
   "source": [
    "results(val_y, knn_billboard_preds)"
   ]
  },
  {
   "cell_type": "code",
   "execution_count": 16,
   "metadata": {},
   "outputs": [],
   "source": [
    "train_X, val_X, train_y, val_y = train_test_split(X, y,random_state = 0, test_size=0.25)\n",
    "scaler = StandardScaler()\n",
    "scaler.fit(train_X)\n",
    "\n",
    "train_X = scaler.transform(train_X)\n",
    "val_X = scaler.transform(val_X)"
   ]
  },
  {
   "cell_type": "code",
   "execution_count": 17,
   "metadata": {},
   "outputs": [],
   "source": [
    "logistic_model = LogisticRegression(random_state=1)\n",
    "logistic_model.fit(train_X, train_y)\n",
    "logistic_billboard_preds = logistic_model.predict(val_X)"
   ]
  },
  {
   "cell_type": "code",
   "execution_count": 18,
   "metadata": {},
   "outputs": [
    {
     "name": "stdout",
     "output_type": "stream",
     "text": [
      "Matrix confusion:\n"
     ]
    },
    {
     "data": {
      "image/png": "[encoded data removed]",
      "text/plain": [
       "<Figure size 432x288 with 2 Axes>"
      ]
     },
     "metadata": {
      "needs_background": "light"
     },
     "output_type": "display_data"
    },
    {
     "name": "stdout",
     "output_type": "stream",
     "text": [
      "Classification report: \n",
      "               precision    recall  f1-score   support\n",
      "\n",
      "         0.0       0.98      1.00      0.99      3975\n",
      "         1.0       0.00      0.00      0.00        88\n",
      "\n",
      "    accuracy                           0.98      4063\n",
      "   macro avg       0.49      0.50      0.49      4063\n",
      "weighted avg       0.96      0.98      0.97      4063\n",
      "\n",
      "Accuracy score: \n",
      " 0.977602756583805\n",
      "Absolute error:\n",
      " 0.02239724341619493\n"
     ]
    }
   ],
   "source": [
    "results(val_y, logistic_billboard_preds)"
   ]
  },
  {
   "cell_type": "code",
   "execution_count": null,
   "metadata": {},
   "outputs": [],
   "source": []
  },
  {
   "cell_type": "code",
   "execution_count": null,
   "metadata": {},
   "outputs": [],
   "source": []
  }
 ],
 "metadata": {
  "interpreter": {
   "hash": "31f2aee4e71d21fbe5cf8b01ff0e069b9275f58929596ceb00d14d90e3e16cd6"
  },
  "kernelspec": {
   "display_name": "Python 3.9.7 64-bit",
   "language": "python",
   "name": "python3"
  },
  "language_info": {
   "codemirror_mode": {
    "name": "ipython",
    "version": 3
   },
   "file_extension": ".py",
   "mimetype": "text/x-python",
   "name": "python",
   "nbconvert_exporter": "python",
   "pygments_lexer": "ipython3",
   "version": "3.9.7"
  },
  "orig_nbformat": 4
 },
 "nbformat": 4,
 "nbformat_minor": 2
}

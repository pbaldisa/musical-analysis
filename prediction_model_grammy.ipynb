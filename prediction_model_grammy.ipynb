{
 "cells": [
  {
   "cell_type": "code",
   "execution_count": 1,
   "metadata": {},
   "outputs": [],
   "source": [
    "import pandas as pd\n",
    "from sklearn.model_selection import train_test_split\n",
    "from sklearn.ensemble import RandomForestClassifier\n",
    "from sklearn.svm import SVC\n",
    "from sklearn.neighbors import KNeighborsClassifier\n",
    "from sklearn.linear_model import LogisticRegression\n",
    "from sklearn.metrics import mean_absolute_error\n",
    "from sklearn.metrics import classification_report, confusion_matrix, accuracy_score\n",
    "from sklearn.metrics import ConfusionMatrixDisplay\n",
    "from sklearn.pipeline import make_pipeline\n",
    "from sklearn.preprocessing import StandardScaler\n",
    "import matplotlib.pyplot as plt"
   ]
  },
  {
   "cell_type": "code",
   "execution_count": 2,
   "metadata": {},
   "outputs": [],
   "source": [
    "grammy_df = pd.read_csv('./final_data.csv')"
   ]
  },
  {
   "cell_type": "code",
   "execution_count": 3,
   "metadata": {},
   "outputs": [],
   "source": [
    "def drop_specific_cols(df, cols):\n",
    "    df = df.drop(cols,axis=1)\n",
    "    return df\n",
    "\n",
    "def results(y, preds):\n",
    "    print('Matrix confusion:')\n",
    "    ConfusionMatrixDisplay.from_predictions( y, preds)\n",
    "    plt.show()\n",
    "    print('Classification report: \\n',classification_report(y,preds,zero_division=True))\n",
    "    print('Accuracy score: \\n', accuracy_score(y, preds))\n",
    "    print('Absolute error:\\n',mean_absolute_error(y, preds))"
   ]
  },
  {
   "cell_type": "code",
   "execution_count": 4,
   "metadata": {},
   "outputs": [],
   "source": [
    "grammy_df = drop_specific_cols(grammy_df, ['e_spotify', 'e_billboard'])\n"
   ]
  },
  {
   "cell_type": "code",
   "execution_count": 5,
   "metadata": {},
   "outputs": [],
   "source": [
    "#variable to predict\n",
    "y = grammy_df.e_grammy"
   ]
  },
  {
   "cell_type": "code",
   "execution_count": 6,
   "metadata": {},
   "outputs": [],
   "source": [
    "#features\n",
    "#we do not consider 'key' based on boxplot observation (title and artist name are not physical variables)\n",
    "grammy_features = ['duration', 'end_of_fade_in', 'loudness', 'mode','start_of_fade_out', 'tempo', 'time_signature','artist_hotttnesss']\n",
    "X = grammy_df[grammy_features]"
   ]
  },
  {
   "cell_type": "code",
   "execution_count": 7,
   "metadata": {},
   "outputs": [],
   "source": [
    "train_X, val_X, train_y, val_y = train_test_split(X, y,random_state = 0, test_size=0.25)"
   ]
  },
  {
   "cell_type": "code",
   "execution_count": 8,
   "metadata": {},
   "outputs": [],
   "source": [
    "forest_model = RandomForestClassifier(random_state=1)\n",
    "forest_model.fit(train_X, train_y)\n",
    "rf_grammy_preds = forest_model.predict(val_X)"
   ]
  },
  {
   "cell_type": "code",
   "execution_count": 9,
   "metadata": {},
   "outputs": [
    {
     "name": "stdout",
     "output_type": "stream",
     "text": [
      "Matrix confusion:\n"
     ]
    },
    {
     "data": {
      "image/png": "[encoded data removed]",
      "text/plain": [
       "<Figure size 432x288 with 2 Axes>"
      ]
     },
     "metadata": {
      "needs_background": "light"
     },
     "output_type": "display_data"
    },
    {
     "name": "stdout",
     "output_type": "stream",
     "text": [
      "Classification report: \n",
      "               precision    recall  f1-score   support\n",
      "\n",
      "           0       1.00      1.00      1.00      4056\n",
      "           1       1.00      0.00      0.00         7\n",
      "\n",
      "    accuracy                           1.00      4063\n",
      "   macro avg       1.00      0.50      0.50      4063\n",
      "weighted avg       1.00      1.00      1.00      4063\n",
      "\n",
      "Accuracy score: \n",
      " 0.9982771351218311\n",
      "Absolute error:\n",
      " 0.0017228648781688408\n"
     ]
    }
   ],
   "source": [
    "results(val_y, rf_grammy_preds)"
   ]
  },
  {
   "cell_type": "code",
   "execution_count": 10,
   "metadata": {},
   "outputs": [],
   "source": [
    "train_X, val_X, train_y, val_y = train_test_split(X, y,random_state = 0, test_size=0.25)\n",
    "scaler = StandardScaler()\n",
    "scaler.fit(train_X)\n",
    "\n",
    "train_X = scaler.transform(train_X)\n",
    "val_X = scaler.transform(val_X)"
   ]
  },
  {
   "cell_type": "code",
   "execution_count": 11,
   "metadata": {},
   "outputs": [],
   "source": [
    "svm_model = SVC(kernel='sigmoid', random_state=1)\n",
    "svm_model.fit(train_X, train_y)\n",
    "svm_grammy_preds = svm_model.predict(val_X)"
   ]
  },
  {
   "cell_type": "code",
   "execution_count": 12,
   "metadata": {},
   "outputs": [
    {
     "name": "stdout",
     "output_type": "stream",
     "text": [
      "Matrix confusion:\n"
     ]
    },
    {
     "data": {
      "image/png": "[encoded data removed]",
      "text/plain": [
       "<Figure size 432x288 with 2 Axes>"
      ]
     },
     "metadata": {
      "needs_background": "light"
     },
     "output_type": "display_data"
    },
    {
     "name": "stdout",
     "output_type": "stream",
     "text": [
      "Classification report: \n",
      "               precision    recall  f1-score   support\n",
      "\n",
      "           0       1.00      1.00      1.00      4056\n",
      "           1       0.00      0.00      0.00         7\n",
      "\n",
      "    accuracy                           1.00      4063\n",
      "   macro avg       0.50      0.50      0.50      4063\n",
      "weighted avg       1.00      1.00      1.00      4063\n",
      "\n",
      "Accuracy score: \n",
      " 0.997784888013783\n",
      "Absolute error:\n",
      " 0.002215111986217081\n"
     ]
    }
   ],
   "source": [
    "results(val_y, svm_grammy_preds)"
   ]
  },
  {
   "cell_type": "code",
   "execution_count": 13,
   "metadata": {},
   "outputs": [],
   "source": [
    "train_X, val_X, train_y, val_y = train_test_split(X, y,random_state = 0, test_size=0.25)\n",
    "scaler = StandardScaler()\n",
    "scaler.fit(train_X)\n",
    "\n",
    "train_X = scaler.transform(train_X)\n",
    "val_X = scaler.transform(val_X)"
   ]
  },
  {
   "cell_type": "code",
   "execution_count": 14,
   "metadata": {},
   "outputs": [],
   "source": [
    "knn_model = KNeighborsClassifier(n_neighbors=5)\n",
    "knn_model.fit(train_X, train_y)\n",
    "knn_grammy_preds = knn_model.predict(val_X)"
   ]
  },
  {
   "cell_type": "code",
   "execution_count": 15,
   "metadata": {},
   "outputs": [
    {
     "name": "stdout",
     "output_type": "stream",
     "text": [
      "Matrix confusion:\n"
     ]
    },
    {
     "data": {
      "image/png": "[encoded data removed]",
      "text/plain": [
       "<Figure size 432x288 with 2 Axes>"
      ]
     },
     "metadata": {
      "needs_background": "light"
     },
     "output_type": "display_data"
    },
    {
     "name": "stdout",
     "output_type": "stream",
     "text": [
      "Classification report: \n",
      "               precision    recall  f1-score   support\n",
      "\n",
      "           0       1.00      1.00      1.00      4056\n",
      "           1       1.00      0.00      0.00         7\n",
      "\n",
      "    accuracy                           1.00      4063\n",
      "   macro avg       1.00      0.50      0.50      4063\n",
      "weighted avg       1.00      1.00      1.00      4063\n",
      "\n",
      "Accuracy score: \n",
      " 0.9982771351218311\n",
      "Absolute error:\n",
      " 0.0017228648781688408\n"
     ]
    }
   ],
   "source": [
    "results(val_y, knn_grammy_preds)"
   ]
  },
  {
   "cell_type": "code",
   "execution_count": 16,
   "metadata": {},
   "outputs": [],
   "source": [
    "train_X, val_X, train_y, val_y = train_test_split(X, y,random_state = 0, test_size=0.25)\n",
    "scaler = StandardScaler()\n",
    "scaler.fit(train_X)\n",
    "\n",
    "train_X = scaler.transform(train_X)\n",
    "val_X = scaler.transform(val_X)"
   ]
  },
  {
   "cell_type": "code",
   "execution_count": 17,
   "metadata": {},
   "outputs": [],
   "source": [
    "logistic_model = LogisticRegression(random_state=1, solver='lbfgs', multi_class='ovr')\n",
    "logistic_model.fit(train_X, train_y)\n",
    "logistic_grammy_preds = logistic_model.predict(val_X)"
   ]
  },
  {
   "cell_type": "code",
   "execution_count": 18,
   "metadata": {},
   "outputs": [
    {
     "name": "stdout",
     "output_type": "stream",
     "text": [
      "Matrix confusion:\n"
     ]
    },
    {
     "data": {
      "image/png": "[encoded data removed]",
      "text/plain": [
       "<Figure size 432x288 with 2 Axes>"
      ]
     },
     "metadata": {
      "needs_background": "light"
     },
     "output_type": "display_data"
    },
    {
     "name": "stdout",
     "output_type": "stream",
     "text": [
      "Classification report: \n",
      "               precision    recall  f1-score   support\n",
      "\n",
      "           0       1.00      1.00      1.00      4056\n",
      "           1       1.00      0.00      0.00         7\n",
      "\n",
      "    accuracy                           1.00      4063\n",
      "   macro avg       1.00      0.50      0.50      4063\n",
      "weighted avg       1.00      1.00      1.00      4063\n",
      "\n",
      "Accuracy score: \n",
      " 0.9982771351218311\n",
      "Absolute error:\n",
      " 0.0017228648781688408\n"
     ]
    }
   ],
   "source": [
    "results(val_y, logistic_grammy_preds)"
   ]
  },
  {
   "cell_type": "code",
   "execution_count": null,
   "metadata": {},
   "outputs": [],
   "source": []
  },
  {
   "cell_type": "code",
   "execution_count": null,
   "metadata": {},
   "outputs": [],
   "source": []
  }
 ],
 "metadata": {
  "interpreter": {
   "hash": "916dbcbb3f70747c44a77c7bcd40155683ae19c65e1c03b4aa3499c5328201f1"
  },
  "kernelspec": {
   "display_name": "Python 3.9.7 64-bit",
   "language": "python",
   "name": "python3"
  },
  "language_info": {
   "codemirror_mode": {
    "name": "ipython",
    "version": 3
   },
   "file_extension": ".py",
   "mimetype": "text/x-python",
   "name": "python",
   "nbconvert_exporter": "python",
   "pygments_lexer": "ipython3",
   "version": "3.9.7"
  },
  "orig_nbformat": 4
 },
 "nbformat": 4,
 "nbformat_minor": 2
}

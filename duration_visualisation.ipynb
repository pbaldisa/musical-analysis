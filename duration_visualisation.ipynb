{
 "cells": [
  {
   "cell_type": "code",
   "execution_count": 1,
   "id": "e296614e",
   "metadata": {},
   "outputs": [],
   "source": [
    "import os\n",
    "import sys\n",
    "import glob\n",
    "import sqlite3\n",
    "import numpy as np\n",
    "import pandas as pd\n",
    "import seaborn as sns\n",
    "import matplotlib.pyplot as plt\n",
    "\n",
    "%matplotlib inline\n"
   ]
  },
  {
   "cell_type": "code",
   "execution_count": 2,
   "id": "ccc682f8",
   "metadata": {},
   "outputs": [],
   "source": [
    "def drop_specific_cols(df):\n",
    "    cols = ['Unnamed: 0','analysis_sample_rate','danceability','energy','genre','artist_7digitalid','audio_md5','analyzer_version','artist_latitude','artist_location','artist_longitude','artist_playmeid','track_7digitalid','release_7digitalid','key_confidence','mode_confidence','time_signature_confidence']\n",
    "    df = df.drop(cols,axis=1)\n",
    "    idx_cols = 'idx_'\n",
    "    return df[df.columns.drop(list(df.filter(regex=idx_cols)))]"
   ]
  },
  {
   "cell_type": "code",
   "execution_count": 3,
   "id": "9c2288ae",
   "metadata": {},
   "outputs": [],
   "source": [
    "df = pd.read_csv('msd_summary.csv')\n",
    "df = drop_specific_cols(df)"
   ]
  },
  {
   "cell_type": "code",
   "execution_count": 10,
   "id": "a660bc9f",
   "metadata": {
    "scrolled": true
   },
   "outputs": [
    {
     "data": {
      "text/html": [
       "<div>\n",
       "<style scoped>\n",
       "    .dataframe tbody tr th:only-of-type {\n",
       "        vertical-align: middle;\n",
       "    }\n",
       "\n",
       "    .dataframe tbody tr th {\n",
       "        vertical-align: top;\n",
       "    }\n",
       "\n",
       "    .dataframe thead th {\n",
       "        text-align: right;\n",
       "    }\n",
       "</style>\n",
       "<table border=\"1\" class=\"dataframe\">\n",
       "  <thead>\n",
       "    <tr style=\"text-align: right;\">\n",
       "      <th></th>\n",
       "      <th>duration</th>\n",
       "      <th>end_of_fade_in</th>\n",
       "      <th>key</th>\n",
       "      <th>loudness</th>\n",
       "      <th>mode</th>\n",
       "      <th>start_of_fade_out</th>\n",
       "      <th>tempo</th>\n",
       "      <th>time_signature</th>\n",
       "      <th>artist_familiarity</th>\n",
       "      <th>artist_hotttnesss</th>\n",
       "      <th>song_hotttnesss</th>\n",
       "      <th>year</th>\n",
       "    </tr>\n",
       "  </thead>\n",
       "  <tbody>\n",
       "    <tr>\n",
       "      <th>count</th>\n",
       "      <td>1000000.000000</td>\n",
       "      <td>1000000.000000</td>\n",
       "      <td>1000000.000000</td>\n",
       "      <td>1000000.000000</td>\n",
       "      <td>1000000.000000</td>\n",
       "      <td>1000000.000000</td>\n",
       "      <td>1000000.000000</td>\n",
       "      <td>1000000.000000</td>\n",
       "      <td>999815.000000</td>\n",
       "      <td>999988.000000</td>\n",
       "      <td>581965.000000</td>\n",
       "      <td>1000000.000000</td>\n",
       "    </tr>\n",
       "    <tr>\n",
       "      <th>mean</th>\n",
       "      <td>249.500755</td>\n",
       "      <td>0.819850</td>\n",
       "      <td>5.321964</td>\n",
       "      <td>-10.124039</td>\n",
       "      <td>0.666408</td>\n",
       "      <td>240.625024</td>\n",
       "      <td>123.889218</td>\n",
       "      <td>3.593947</td>\n",
       "      <td>0.557203</td>\n",
       "      <td>0.379813</td>\n",
       "      <td>0.356051</td>\n",
       "      <td>1030.325652</td>\n",
       "    </tr>\n",
       "    <tr>\n",
       "      <th>std</th>\n",
       "      <td>126.229636</td>\n",
       "      <td>3.304457</td>\n",
       "      <td>3.601595</td>\n",
       "      <td>5.197245</td>\n",
       "      <td>0.471496</td>\n",
       "      <td>124.079924</td>\n",
       "      <td>35.055981</td>\n",
       "      <td>1.221925</td>\n",
       "      <td>0.138611</td>\n",
       "      <td>0.125960</td>\n",
       "      <td>0.234441</td>\n",
       "      <td>998.745002</td>\n",
       "    </tr>\n",
       "    <tr>\n",
       "      <th>min</th>\n",
       "      <td>0.313020</td>\n",
       "      <td>0.000000</td>\n",
       "      <td>0.000000</td>\n",
       "      <td>-58.178000</td>\n",
       "      <td>0.000000</td>\n",
       "      <td>0.313000</td>\n",
       "      <td>0.000000</td>\n",
       "      <td>0.000000</td>\n",
       "      <td>0.000000</td>\n",
       "      <td>0.000000</td>\n",
       "      <td>0.000000</td>\n",
       "      <td>0.000000</td>\n",
       "    </tr>\n",
       "    <tr>\n",
       "      <th>25%</th>\n",
       "      <td>180.740770</td>\n",
       "      <td>0.000000</td>\n",
       "      <td>2.000000</td>\n",
       "      <td>-12.672000</td>\n",
       "      <td>0.000000</td>\n",
       "      <td>173.180000</td>\n",
       "      <td>97.995000</td>\n",
       "      <td>3.000000</td>\n",
       "      <td>0.478253</td>\n",
       "      <td>0.336324</td>\n",
       "      <td>0.215080</td>\n",
       "      <td>0.000000</td>\n",
       "    </tr>\n",
       "    <tr>\n",
       "      <th>50%</th>\n",
       "      <td>228.858320</td>\n",
       "      <td>0.194000</td>\n",
       "      <td>5.000000</td>\n",
       "      <td>-8.963000</td>\n",
       "      <td>1.000000</td>\n",
       "      <td>219.759000</td>\n",
       "      <td>122.086000</td>\n",
       "      <td>4.000000</td>\n",
       "      <td>0.558905</td>\n",
       "      <td>0.386194</td>\n",
       "      <td>0.377532</td>\n",
       "      <td>1969.000000</td>\n",
       "    </tr>\n",
       "    <tr>\n",
       "      <th>75%</th>\n",
       "      <td>289.932610</td>\n",
       "      <td>0.432000</td>\n",
       "      <td>9.000000</td>\n",
       "      <td>-6.386000</td>\n",
       "      <td>1.000000</td>\n",
       "      <td>279.713000</td>\n",
       "      <td>144.089000</td>\n",
       "      <td>4.000000</td>\n",
       "      <td>0.641420</td>\n",
       "      <td>0.444066</td>\n",
       "      <td>0.531985</td>\n",
       "      <td>2002.000000</td>\n",
       "    </tr>\n",
       "    <tr>\n",
       "      <th>max</th>\n",
       "      <td>3034.905670</td>\n",
       "      <td>1163.941000</td>\n",
       "      <td>11.000000</td>\n",
       "      <td>4.318000</td>\n",
       "      <td>1.000000</td>\n",
       "      <td>3030.622000</td>\n",
       "      <td>302.300000</td>\n",
       "      <td>7.000000</td>\n",
       "      <td>1.000000</td>\n",
       "      <td>1.082503</td>\n",
       "      <td>1.000000</td>\n",
       "      <td>2011.000000</td>\n",
       "    </tr>\n",
       "  </tbody>\n",
       "</table>\n",
       "</div>"
      ],
      "text/plain": [
       "             duration  end_of_fade_in             key        loudness  \\\n",
       "count  1000000.000000  1000000.000000  1000000.000000  1000000.000000   \n",
       "mean       249.500755        0.819850        5.321964      -10.124039   \n",
       "std        126.229636        3.304457        3.601595        5.197245   \n",
       "min          0.313020        0.000000        0.000000      -58.178000   \n",
       "25%        180.740770        0.000000        2.000000      -12.672000   \n",
       "50%        228.858320        0.194000        5.000000       -8.963000   \n",
       "75%        289.932610        0.432000        9.000000       -6.386000   \n",
       "max       3034.905670     1163.941000       11.000000        4.318000   \n",
       "\n",
       "                 mode  start_of_fade_out           tempo  time_signature  \\\n",
       "count  1000000.000000     1000000.000000  1000000.000000  1000000.000000   \n",
       "mean         0.666408         240.625024      123.889218        3.593947   \n",
       "std          0.471496         124.079924       35.055981        1.221925   \n",
       "min          0.000000           0.313000        0.000000        0.000000   \n",
       "25%          0.000000         173.180000       97.995000        3.000000   \n",
       "50%          1.000000         219.759000      122.086000        4.000000   \n",
       "75%          1.000000         279.713000      144.089000        4.000000   \n",
       "max          1.000000        3030.622000      302.300000        7.000000   \n",
       "\n",
       "       artist_familiarity  artist_hotttnesss  song_hotttnesss            year  \n",
       "count       999815.000000      999988.000000    581965.000000  1000000.000000  \n",
       "mean             0.557203           0.379813         0.356051     1030.325652  \n",
       "std              0.138611           0.125960         0.234441      998.745002  \n",
       "min              0.000000           0.000000         0.000000        0.000000  \n",
       "25%              0.478253           0.336324         0.215080        0.000000  \n",
       "50%              0.558905           0.386194         0.377532     1969.000000  \n",
       "75%              0.641420           0.444066         0.531985     2002.000000  \n",
       "max              1.000000           1.082503         1.000000     2011.000000  "
      ]
     },
     "execution_count": 10,
     "metadata": {},
     "output_type": "execute_result"
    }
   ],
   "source": [
    "df.describe()"
   ]
  },
  {
   "cell_type": "code",
   "execution_count": 4,
   "id": "4e091344",
   "metadata": {},
   "outputs": [
    {
     "data": {
      "image/png": "[encoded data removed]",
      "text/plain": [
       "<Figure size 360x360 with 1 Axes>"
      ]
     },
     "metadata": {
      "needs_background": "light"
     },
     "output_type": "display_data"
    }
   ],
   "source": [
    "from scipy.stats import chi2\n",
    "x = pd.Series(df['duration'], name=\"time in seconds\")\n",
    "ax = sns.displot(x)\n"
   ]
  },
  {
   "cell_type": "code",
   "execution_count": 7,
   "id": "56814962",
   "metadata": {},
   "outputs": [
    {
     "name": "stdout",
     "output_type": "stream",
     "text": [
      "(9.577775402868582, -0.3430569307145269, 26.087154789824126)\n"
     ]
    },
    {
     "data": {
      "image/png": "[encoded data removed]",
      "text/plain": [
       "<Figure size 432x288 with 1 Axes>"
      ]
     },
     "metadata": {
      "needs_background": "light"
     },
     "output_type": "display_data"
    }
   ],
   "source": [
    "\n",
    "from scipy.stats import chi2\n",
    "\n",
    "data = df['duration']\n",
    "print(chi2.fit(data))\n",
    "#no sé què són a, b i c \n",
    "a, b, c = chi2.fit(data)\n"
   ]
  },
  {
   "cell_type": "code",
   "execution_count": 9,
   "id": "f1b0e9c6",
   "metadata": {},
   "outputs": [
    {
     "data": {
      "image/png": "[encoded data removed]",
      "text/plain": [
       "<Figure size 432x288 with 1 Axes>"
      ]
     },
     "metadata": {
      "needs_background": "light"
     },
     "output_type": "display_data"
    }
   ],
   "source": [
    "# Plot the histogram.\n",
    "plt.hist(data, bins=1000, density=True, alpha=0.6, color='g')\n",
    "\n",
    "# Plot the PDF.\n",
    "xmin, xmax = plt.xlim()\n",
    "x = np.linspace(xmin, 1500, 10000)\n",
    "p = chi2.pdf(x, a, b, c)\n",
    "plt.plot(x, p, 'k', linewidth=2)\n",
    "plt.show()"
   ]
  },
  {
   "cell_type": "code",
   "execution_count": null,
   "id": "d68aeadc",
   "metadata": {},
   "outputs": [],
   "source": []
  }
 ],
 "metadata": {
  "kernelspec": {
   "display_name": "Python 3 (ipykernel)",
   "language": "python",
   "name": "python3"
  },
  "language_info": {
   "codemirror_mode": {
    "name": "ipython",
    "version": 3
   },
   "file_extension": ".py",
   "mimetype": "text/x-python",
   "name": "python",
   "nbconvert_exporter": "python",
   "pygments_lexer": "ipython3",
   "version": "3.9.0"
  }
 },
 "nbformat": 4,
 "nbformat_minor": 5
}

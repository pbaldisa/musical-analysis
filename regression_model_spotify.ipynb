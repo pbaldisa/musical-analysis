{
 "cells": [
  {
   "cell_type": "code",
   "execution_count": 1,
   "metadata": {},
   "outputs": [],
   "source": [
    "import pandas as pd\n",
    "from sklearn.model_selection import train_test_split\n",
    "from sklearn.ensemble import RandomForestRegressor\n",
    "from sklearn.svm import SVC\n",
    "from sklearn.neighbors import KNeighborsRegressor\n",
    "from sklearn.linear_model import LogisticRegression\n",
    "from sklearn.metrics import mean_absolute_error\n",
    "from sklearn.metrics import classification_report, confusion_matrix, accuracy_score\n",
    "from sklearn.metrics import ConfusionMatrixDisplay\n",
    "from sklearn.metrics import r2_score\n",
    "from sklearn.metrics import mean_squared_error\n",
    "from sklearn.pipeline import make_pipeline\n",
    "from sklearn.preprocessing import StandardScaler\n",
    "from sklearn.svm import SVR\n",
    "import matplotlib.pyplot as plt\n",
    "import math\n",
    "import numpy as np"
   ]
  },
  {
   "cell_type": "code",
   "execution_count": 11,
   "metadata": {},
   "outputs": [
    {
     "data": {
      "text/html": [
       "<div>\n",
       "<style scoped>\n",
       "    .dataframe tbody tr th:only-of-type {\n",
       "        vertical-align: middle;\n",
       "    }\n",
       "\n",
       "    .dataframe tbody tr th {\n",
       "        vertical-align: top;\n",
       "    }\n",
       "\n",
       "    .dataframe thead th {\n",
       "        text-align: right;\n",
       "    }\n",
       "</style>\n",
       "<table border=\"1\" class=\"dataframe\">\n",
       "  <thead>\n",
       "    <tr style=\"text-align: right;\">\n",
       "      <th></th>\n",
       "      <th>duration</th>\n",
       "      <th>end_of_fade_in</th>\n",
       "      <th>key</th>\n",
       "      <th>loudness</th>\n",
       "      <th>mode</th>\n",
       "      <th>start_of_fade_out</th>\n",
       "      <th>tempo</th>\n",
       "      <th>time_signature</th>\n",
       "      <th>e_grammy</th>\n",
       "      <th>e_billboard</th>\n",
       "      <th>e_spotify</th>\n",
       "    </tr>\n",
       "  </thead>\n",
       "  <tbody>\n",
       "    <tr>\n",
       "      <th>count</th>\n",
       "      <td>69.000000</td>\n",
       "      <td>69.000000</td>\n",
       "      <td>69.000000</td>\n",
       "      <td>69.000000</td>\n",
       "      <td>69.000000</td>\n",
       "      <td>69.000000</td>\n",
       "      <td>69.000000</td>\n",
       "      <td>69.000000</td>\n",
       "      <td>69.000000</td>\n",
       "      <td>69.000000</td>\n",
       "      <td>69.000000</td>\n",
       "    </tr>\n",
       "    <tr>\n",
       "      <th>mean</th>\n",
       "      <td>255.428260</td>\n",
       "      <td>0.450725</td>\n",
       "      <td>5.855072</td>\n",
       "      <td>-5.917319</td>\n",
       "      <td>0.594203</td>\n",
       "      <td>244.556304</td>\n",
       "      <td>121.600014</td>\n",
       "      <td>3.884058</td>\n",
       "      <td>0.043478</td>\n",
       "      <td>17.695652</td>\n",
       "      <td>50.927536</td>\n",
       "    </tr>\n",
       "    <tr>\n",
       "      <th>std</th>\n",
       "      <td>78.970256</td>\n",
       "      <td>1.136134</td>\n",
       "      <td>3.874029</td>\n",
       "      <td>4.038794</td>\n",
       "      <td>0.494643</td>\n",
       "      <td>75.867338</td>\n",
       "      <td>33.610623</td>\n",
       "      <td>0.738365</td>\n",
       "      <td>0.205425</td>\n",
       "      <td>38.563662</td>\n",
       "      <td>11.990583</td>\n",
       "    </tr>\n",
       "    <tr>\n",
       "      <th>min</th>\n",
       "      <td>29.805260</td>\n",
       "      <td>0.000000</td>\n",
       "      <td>0.000000</td>\n",
       "      <td>-24.945000</td>\n",
       "      <td>0.000000</td>\n",
       "      <td>29.805000</td>\n",
       "      <td>59.553000</td>\n",
       "      <td>1.000000</td>\n",
       "      <td>0.000000</td>\n",
       "      <td>0.000000</td>\n",
       "      <td>23.000000</td>\n",
       "    </tr>\n",
       "    <tr>\n",
       "      <th>25%</th>\n",
       "      <td>227.160360</td>\n",
       "      <td>0.000000</td>\n",
       "      <td>1.000000</td>\n",
       "      <td>-6.760000</td>\n",
       "      <td>0.000000</td>\n",
       "      <td>212.009000</td>\n",
       "      <td>90.992000</td>\n",
       "      <td>4.000000</td>\n",
       "      <td>0.000000</td>\n",
       "      <td>0.000000</td>\n",
       "      <td>45.000000</td>\n",
       "    </tr>\n",
       "    <tr>\n",
       "      <th>50%</th>\n",
       "      <td>267.258320</td>\n",
       "      <td>0.000000</td>\n",
       "      <td>7.000000</td>\n",
       "      <td>-4.941000</td>\n",
       "      <td>1.000000</td>\n",
       "      <td>254.862000</td>\n",
       "      <td>114.041000</td>\n",
       "      <td>4.000000</td>\n",
       "      <td>0.000000</td>\n",
       "      <td>0.000000</td>\n",
       "      <td>50.000000</td>\n",
       "    </tr>\n",
       "    <tr>\n",
       "      <th>75%</th>\n",
       "      <td>312.267300</td>\n",
       "      <td>0.276000</td>\n",
       "      <td>10.000000</td>\n",
       "      <td>-3.799000</td>\n",
       "      <td>1.000000</td>\n",
       "      <td>293.634000</td>\n",
       "      <td>156.982000</td>\n",
       "      <td>4.000000</td>\n",
       "      <td>0.000000</td>\n",
       "      <td>0.000000</td>\n",
       "      <td>55.000000</td>\n",
       "    </tr>\n",
       "    <tr>\n",
       "      <th>max</th>\n",
       "      <td>397.609340</td>\n",
       "      <td>6.908000</td>\n",
       "      <td>11.000000</td>\n",
       "      <td>-0.558000</td>\n",
       "      <td>1.000000</td>\n",
       "      <td>373.696000</td>\n",
       "      <td>184.045000</td>\n",
       "      <td>5.000000</td>\n",
       "      <td>1.000000</td>\n",
       "      <td>119.000000</td>\n",
       "      <td>86.000000</td>\n",
       "    </tr>\n",
       "  </tbody>\n",
       "</table>\n",
       "</div>"
      ],
      "text/plain": [
       "         duration  end_of_fade_in        key   loudness       mode  \\\n",
       "count   69.000000       69.000000  69.000000  69.000000  69.000000   \n",
       "mean   255.428260        0.450725   5.855072  -5.917319   0.594203   \n",
       "std     78.970256        1.136134   3.874029   4.038794   0.494643   \n",
       "min     29.805260        0.000000   0.000000 -24.945000   0.000000   \n",
       "25%    227.160360        0.000000   1.000000  -6.760000   0.000000   \n",
       "50%    267.258320        0.000000   7.000000  -4.941000   1.000000   \n",
       "75%    312.267300        0.276000  10.000000  -3.799000   1.000000   \n",
       "max    397.609340        6.908000  11.000000  -0.558000   1.000000   \n",
       "\n",
       "       start_of_fade_out       tempo  time_signature   e_grammy  e_billboard  \\\n",
       "count          69.000000   69.000000       69.000000  69.000000    69.000000   \n",
       "mean          244.556304  121.600014        3.884058   0.043478    17.695652   \n",
       "std            75.867338   33.610623        0.738365   0.205425    38.563662   \n",
       "min            29.805000   59.553000        1.000000   0.000000     0.000000   \n",
       "25%           212.009000   90.992000        4.000000   0.000000     0.000000   \n",
       "50%           254.862000  114.041000        4.000000   0.000000     0.000000   \n",
       "75%           293.634000  156.982000        4.000000   0.000000     0.000000   \n",
       "max           373.696000  184.045000        5.000000   1.000000   119.000000   \n",
       "\n",
       "       e_spotify  \n",
       "count  69.000000  \n",
       "mean   50.927536  \n",
       "std    11.990583  \n",
       "min    23.000000  \n",
       "25%    45.000000  \n",
       "50%    50.000000  \n",
       "75%    55.000000  \n",
       "max    86.000000  "
      ]
     },
     "execution_count": 11,
     "metadata": {},
     "output_type": "execute_result"
    }
   ],
   "source": [
    "spotify_df = pd.read_csv(\"./final_data.csv\")\n",
    "artist_df = spotify_df[spotify_df['artist_name'] == 'Eminem']\n",
    "artist_df.describe()"
   ]
  },
  {
   "cell_type": "code",
   "execution_count": 12,
   "metadata": {},
   "outputs": [],
   "source": [
    "def drop_specific_cols(df, cols):\n",
    "    df = df.drop(cols,axis=1)\n",
    "    return df\n",
    "\n",
    "def results(y, preds,type):\n",
    "    print('R² score: \\n',r2_score(y,preds))\n",
    "    print('RSME: \\n',math.sqrt(mean_squared_error(y,preds)))\n",
    "    print('MAE: \\n',mean_absolute_error(y,preds))\n",
    "    plt.plot(y,preds, 'ro')\n",
    "    x = np.linspace(min(min(y),min(preds)), max(max(y),max(preds)), 100)\n",
    "    plt.plot(x,x)\n",
    "    plt.xlabel('Valor real')\n",
    "    plt.ylabel('Valor predit')\n",
    "    plt.title('Èxit a billboard amb '+ type)\n",
    "    plt.show()\n",
    "    "
   ]
  },
  {
   "cell_type": "code",
   "execution_count": 13,
   "metadata": {},
   "outputs": [],
   "source": [
    "artist_df = drop_specific_cols(artist_df, ['e_grammy', 'e_billboard'])\n"
   ]
  },
  {
   "cell_type": "code",
   "execution_count": 14,
   "metadata": {},
   "outputs": [],
   "source": [
    "#variable to predict\n",
    "y = artist_df.e_spotify"
   ]
  },
  {
   "cell_type": "code",
   "execution_count": 15,
   "metadata": {},
   "outputs": [],
   "source": [
    "#features\n",
    "#we do not consider 'key' based on boxplot observation (title and artist name are not physical variables)\n",
    "spotify_features = ['duration', 'end_of_fade_in', 'loudness', 'mode','start_of_fade_out', 'tempo', 'time_signature']\n",
    "X = artist_df[spotify_features]"
   ]
  },
  {
   "cell_type": "code",
   "execution_count": 16,
   "metadata": {},
   "outputs": [],
   "source": [
    "train_X, val_X, train_y, val_y = train_test_split(X, y,random_state = 0,test_size=0.25)"
   ]
  },
  {
   "cell_type": "code",
   "execution_count": 17,
   "metadata": {},
   "outputs": [],
   "source": [
    "forest_model = RandomForestRegressor(random_state=0)\n",
    "forest_model.fit(train_X, train_y)\n",
    "rf_spotify_preds = forest_model.predict(val_X)\n"
   ]
  },
  {
   "cell_type": "code",
   "execution_count": 18,
   "metadata": {},
   "outputs": [
    {
     "name": "stdout",
     "output_type": "stream",
     "text": [
      "R² score: \n",
      " -0.21548356116480138\n",
      "RSME: \n",
      " 15.362743714728968\n",
      "MAE: \n",
      " 11.41722222222222\n"
     ]
    },
    {
     "data": {
      "image/png": "[encoded data removed]",
      "text/plain": [
       "<Figure size 432x288 with 1 Axes>"
      ]
     },
     "metadata": {
      "needs_background": "light"
     },
     "output_type": "display_data"
    }
   ],
   "source": [
    "results(val_y, rf_spotify_preds, 'model random forest')"
   ]
  },
  {
   "cell_type": "code",
   "execution_count": 19,
   "metadata": {},
   "outputs": [],
   "source": [
    "train_X, val_X, train_y, val_y = train_test_split(X, y,random_state = 0, test_size=0.25)\n",
    "scaler = StandardScaler()\n",
    "scaler.fit(train_X)\n",
    "\n",
    "train_X = scaler.transform(train_X)\n",
    "val_X = scaler.transform(val_X)"
   ]
  },
  {
   "cell_type": "code",
   "execution_count": 20,
   "metadata": {},
   "outputs": [],
   "source": [
    "svr_model = SVR(kernel='rbf')\n",
    "svr_model.fit(train_X, train_y)\n",
    "svr_spotify_preds = svr_model.predict(val_X)"
   ]
  },
  {
   "cell_type": "code",
   "execution_count": 21,
   "metadata": {},
   "outputs": [
    {
     "name": "stdout",
     "output_type": "stream",
     "text": [
      "R² score: \n",
      " -0.005785142697793955\n",
      "RSME: \n",
      " 13.974840145445382\n",
      "MAE: \n",
      " 10.798816902708017\n"
     ]
    },
    {
     "data": {
      "image/png": "[encoded data removed]",
      "text/plain": [
       "<Figure size 432x288 with 1 Axes>"
      ]
     },
     "metadata": {
      "needs_background": "light"
     },
     "output_type": "display_data"
    }
   ],
   "source": [
    "results(val_y, svr_spotify_preds,'model SVR')"
   ]
  },
  {
   "cell_type": "code",
   "execution_count": 22,
   "metadata": {},
   "outputs": [],
   "source": [
    "train_X, val_X, train_y, val_y = train_test_split(X, y,random_state = 0, test_size=0.25)\n",
    "scaler = StandardScaler()\n",
    "scaler.fit(train_X)\n",
    "\n",
    "train_X = scaler.transform(train_X)\n",
    "val_X = scaler.transform(val_X)"
   ]
  },
  {
   "cell_type": "code",
   "execution_count": 23,
   "metadata": {},
   "outputs": [],
   "source": [
    "knn_model = KNeighborsRegressor(n_neighbors=5)\n",
    "knn_model.fit(train_X, train_y)\n",
    "knn_spotify_preds = knn_model.predict(val_X)"
   ]
  },
  {
   "cell_type": "code",
   "execution_count": 24,
   "metadata": {},
   "outputs": [
    {
     "name": "stdout",
     "output_type": "stream",
     "text": [
      "R² score: \n",
      " 0.03766149542217723\n",
      "RSME: \n",
      " 13.669674465765452\n",
      "MAE: \n",
      " 10.211111111111112\n"
     ]
    },
    {
     "data": {
      "image/png": "[encoded data removed]",
      "text/plain": [
       "<Figure size 432x288 with 1 Axes>"
      ]
     },
     "metadata": {
      "needs_background": "light"
     },
     "output_type": "display_data"
    }
   ],
   "source": [
    "results(val_y, knn_spotify_preds, 'model KKN')"
   ]
  },
  {
   "cell_type": "code",
   "execution_count": 25,
   "metadata": {},
   "outputs": [],
   "source": [
    "train_X, val_X, train_y, val_y = train_test_split(X, y,random_state = 0, test_size=0.25)\n",
    "scaler = StandardScaler()\n",
    "scaler.fit(train_X)\n",
    "\n",
    "train_X = scaler.transform(train_X)\n",
    "val_X = scaler.transform(val_X)"
   ]
  },
  {
   "cell_type": "code",
   "execution_count": 26,
   "metadata": {},
   "outputs": [],
   "source": [
    "logistic_model = LogisticRegression(random_state=1, solver='lbfgs', multi_class='auto')\n",
    "logistic_model.fit(train_X, train_y)\n",
    "logistic_spotify_preds = logistic_model.predict(val_X)"
   ]
  },
  {
   "cell_type": "code",
   "execution_count": 27,
   "metadata": {},
   "outputs": [
    {
     "name": "stdout",
     "output_type": "stream",
     "text": [
      "R² score: \n",
      " -0.20453967446592047\n",
      "RSME: \n",
      " 15.293426329272616\n",
      "MAE: \n",
      " 11.11111111111111\n"
     ]
    },
    {
     "data": {
      "image/png": "[encoded data removed]",
      "text/plain": [
       "<Figure size 432x288 with 1 Axes>"
      ]
     },
     "metadata": {
      "needs_background": "light"
     },
     "output_type": "display_data"
    }
   ],
   "source": [
    "results(val_y, logistic_spotify_preds, 'model logistic')"
   ]
  }
 ],
 "metadata": {
  "interpreter": {
   "hash": "916dbcbb3f70747c44a77c7bcd40155683ae19c65e1c03b4aa3499c5328201f1"
  },
  "kernelspec": {
   "display_name": "Python 3.9.7 64-bit",
   "language": "python",
   "name": "python3"
  },
  "language_info": {
   "codemirror_mode": {
    "name": "ipython",
    "version": 3
   },
   "file_extension": ".py",
   "mimetype": "text/x-python",
   "name": "python",
   "nbconvert_exporter": "python",
   "pygments_lexer": "ipython3",
   "version": "3.9.7"
  },
  "orig_nbformat": 4
 },
 "nbformat": 4,
 "nbformat_minor": 2
}

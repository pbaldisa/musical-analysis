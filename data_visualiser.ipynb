{
 "cells": [
  {
   "cell_type": "code",
   "execution_count": 1,
   "metadata": {},
   "outputs": [],
   "source": [
    "import pandas as pd\n",
    "import numpy as np\n",
    "import seaborn as sns\n",
    "import matplotlib.pyplot as plt"
   ]
  },
  {
   "cell_type": "code",
   "execution_count": 2,
   "metadata": {},
   "outputs": [
    {
     "data": {
      "text/html": [
       "<div>\n",
       "<style scoped>\n",
       "    .dataframe tbody tr th:only-of-type {\n",
       "        vertical-align: middle;\n",
       "    }\n",
       "\n",
       "    .dataframe tbody tr th {\n",
       "        vertical-align: top;\n",
       "    }\n",
       "\n",
       "    .dataframe thead th {\n",
       "        text-align: right;\n",
       "    }\n",
       "</style>\n",
       "<table border=\"1\" class=\"dataframe\">\n",
       "  <thead>\n",
       "    <tr style=\"text-align: right;\">\n",
       "      <th></th>\n",
       "      <th>duration</th>\n",
       "      <th>end_of_fade_in</th>\n",
       "      <th>key</th>\n",
       "      <th>loudness</th>\n",
       "      <th>mode</th>\n",
       "      <th>start_of_fade_out</th>\n",
       "      <th>tempo</th>\n",
       "      <th>time_signature</th>\n",
       "      <th>artist_familiarity</th>\n",
       "      <th>artist_hotttnesss</th>\n",
       "      <th>artist_latitude</th>\n",
       "      <th>artist_longitude</th>\n",
       "      <th>song_hotttnesss</th>\n",
       "      <th>year</th>\n",
       "      <th>e_grammy</th>\n",
       "      <th>e_billboard</th>\n",
       "      <th>e_spotify</th>\n",
       "    </tr>\n",
       "  </thead>\n",
       "  <tbody>\n",
       "    <tr>\n",
       "      <th>count</th>\n",
       "      <td>9.000000</td>\n",
       "      <td>9.000000</td>\n",
       "      <td>9.000000</td>\n",
       "      <td>9.000000</td>\n",
       "      <td>9.000000</td>\n",
       "      <td>9.000000</td>\n",
       "      <td>9.000000</td>\n",
       "      <td>9.000000</td>\n",
       "      <td>9.000000</td>\n",
       "      <td>9.000000</td>\n",
       "      <td>0.0</td>\n",
       "      <td>0.0</td>\n",
       "      <td>3.000000</td>\n",
       "      <td>9.000000</td>\n",
       "      <td>9.000000</td>\n",
       "      <td>9.000000</td>\n",
       "      <td>9.0</td>\n",
       "    </tr>\n",
       "    <tr>\n",
       "      <th>mean</th>\n",
       "      <td>256.022767</td>\n",
       "      <td>1.003000</td>\n",
       "      <td>4.000000</td>\n",
       "      <td>-9.510222</td>\n",
       "      <td>0.666667</td>\n",
       "      <td>243.844000</td>\n",
       "      <td>155.925889</td>\n",
       "      <td>3.555556</td>\n",
       "      <td>0.796768</td>\n",
       "      <td>0.626606</td>\n",
       "      <td>NaN</td>\n",
       "      <td>NaN</td>\n",
       "      <td>0.732081</td>\n",
       "      <td>1980.111111</td>\n",
       "      <td>0.111111</td>\n",
       "      <td>27.444444</td>\n",
       "      <td>1.0</td>\n",
       "    </tr>\n",
       "    <tr>\n",
       "      <th>std</th>\n",
       "      <td>72.126763</td>\n",
       "      <td>1.407585</td>\n",
       "      <td>2.872281</td>\n",
       "      <td>3.357116</td>\n",
       "      <td>0.500000</td>\n",
       "      <td>71.276814</td>\n",
       "      <td>22.894154</td>\n",
       "      <td>1.013794</td>\n",
       "      <td>0.019201</td>\n",
       "      <td>0.013474</td>\n",
       "      <td>NaN</td>\n",
       "      <td>NaN</td>\n",
       "      <td>0.082860</td>\n",
       "      <td>1.833333</td>\n",
       "      <td>0.333333</td>\n",
       "      <td>46.333333</td>\n",
       "      <td>0.0</td>\n",
       "    </tr>\n",
       "    <tr>\n",
       "      <th>min</th>\n",
       "      <td>146.729340</td>\n",
       "      <td>0.000000</td>\n",
       "      <td>0.000000</td>\n",
       "      <td>-13.809000</td>\n",
       "      <td>0.000000</td>\n",
       "      <td>132.412000</td>\n",
       "      <td>124.070000</td>\n",
       "      <td>1.000000</td>\n",
       "      <td>0.790368</td>\n",
       "      <td>0.615454</td>\n",
       "      <td>NaN</td>\n",
       "      <td>NaN</td>\n",
       "      <td>0.636636</td>\n",
       "      <td>1978.000000</td>\n",
       "      <td>0.000000</td>\n",
       "      <td>0.000000</td>\n",
       "      <td>1.0</td>\n",
       "    </tr>\n",
       "    <tr>\n",
       "      <th>25%</th>\n",
       "      <td>187.375870</td>\n",
       "      <td>0.090000</td>\n",
       "      <td>2.000000</td>\n",
       "      <td>-12.423000</td>\n",
       "      <td>0.000000</td>\n",
       "      <td>173.105000</td>\n",
       "      <td>146.243000</td>\n",
       "      <td>4.000000</td>\n",
       "      <td>0.790368</td>\n",
       "      <td>0.615454</td>\n",
       "      <td>NaN</td>\n",
       "      <td>NaN</td>\n",
       "      <td>0.705322</td>\n",
       "      <td>1979.000000</td>\n",
       "      <td>0.000000</td>\n",
       "      <td>0.000000</td>\n",
       "      <td>1.0</td>\n",
       "    </tr>\n",
       "    <tr>\n",
       "      <th>50%</th>\n",
       "      <td>291.865670</td>\n",
       "      <td>0.136000</td>\n",
       "      <td>4.000000</td>\n",
       "      <td>-9.939000</td>\n",
       "      <td>1.000000</td>\n",
       "      <td>280.340000</td>\n",
       "      <td>155.183000</td>\n",
       "      <td>4.000000</td>\n",
       "      <td>0.790368</td>\n",
       "      <td>0.615454</td>\n",
       "      <td>NaN</td>\n",
       "      <td>NaN</td>\n",
       "      <td>0.774008</td>\n",
       "      <td>1979.000000</td>\n",
       "      <td>0.000000</td>\n",
       "      <td>0.000000</td>\n",
       "      <td>1.0</td>\n",
       "    </tr>\n",
       "    <tr>\n",
       "      <th>75%</th>\n",
       "      <td>300.068120</td>\n",
       "      <td>2.351000</td>\n",
       "      <td>6.000000</td>\n",
       "      <td>-7.178000</td>\n",
       "      <td>1.000000</td>\n",
       "      <td>289.396000</td>\n",
       "      <td>156.174000</td>\n",
       "      <td>4.000000</td>\n",
       "      <td>0.790368</td>\n",
       "      <td>0.642656</td>\n",
       "      <td>NaN</td>\n",
       "      <td>NaN</td>\n",
       "      <td>0.779803</td>\n",
       "      <td>1981.000000</td>\n",
       "      <td>0.000000</td>\n",
       "      <td>34.000000</td>\n",
       "      <td>1.0</td>\n",
       "    </tr>\n",
       "    <tr>\n",
       "      <th>max</th>\n",
       "      <td>355.761180</td>\n",
       "      <td>3.431000</td>\n",
       "      <td>9.000000</td>\n",
       "      <td>-4.102000</td>\n",
       "      <td>1.000000</td>\n",
       "      <td>334.658000</td>\n",
       "      <td>209.978000</td>\n",
       "      <td>4.000000</td>\n",
       "      <td>0.847972</td>\n",
       "      <td>0.642656</td>\n",
       "      <td>NaN</td>\n",
       "      <td>NaN</td>\n",
       "      <td>0.785598</td>\n",
       "      <td>1983.000000</td>\n",
       "      <td>1.000000</td>\n",
       "      <td>114.000000</td>\n",
       "      <td>1.0</td>\n",
       "    </tr>\n",
       "  </tbody>\n",
       "</table>\n",
       "</div>"
      ],
      "text/plain": [
       "         duration  end_of_fade_in       key   loudness      mode  \\\n",
       "count    9.000000        9.000000  9.000000   9.000000  9.000000   \n",
       "mean   256.022767        1.003000  4.000000  -9.510222  0.666667   \n",
       "std     72.126763        1.407585  2.872281   3.357116  0.500000   \n",
       "min    146.729340        0.000000  0.000000 -13.809000  0.000000   \n",
       "25%    187.375870        0.090000  2.000000 -12.423000  0.000000   \n",
       "50%    291.865670        0.136000  4.000000  -9.939000  1.000000   \n",
       "75%    300.068120        2.351000  6.000000  -7.178000  1.000000   \n",
       "max    355.761180        3.431000  9.000000  -4.102000  1.000000   \n",
       "\n",
       "       start_of_fade_out       tempo  time_signature  artist_familiarity  \\\n",
       "count           9.000000    9.000000        9.000000            9.000000   \n",
       "mean          243.844000  155.925889        3.555556            0.796768   \n",
       "std            71.276814   22.894154        1.013794            0.019201   \n",
       "min           132.412000  124.070000        1.000000            0.790368   \n",
       "25%           173.105000  146.243000        4.000000            0.790368   \n",
       "50%           280.340000  155.183000        4.000000            0.790368   \n",
       "75%           289.396000  156.174000        4.000000            0.790368   \n",
       "max           334.658000  209.978000        4.000000            0.847972   \n",
       "\n",
       "       artist_hotttnesss  artist_latitude  artist_longitude  song_hotttnesss  \\\n",
       "count           9.000000              0.0               0.0         3.000000   \n",
       "mean            0.626606              NaN               NaN         0.732081   \n",
       "std             0.013474              NaN               NaN         0.082860   \n",
       "min             0.615454              NaN               NaN         0.636636   \n",
       "25%             0.615454              NaN               NaN         0.705322   \n",
       "50%             0.615454              NaN               NaN         0.774008   \n",
       "75%             0.642656              NaN               NaN         0.779803   \n",
       "max             0.642656              NaN               NaN         0.785598   \n",
       "\n",
       "              year  e_grammy  e_billboard  e_spotify  \n",
       "count     9.000000  9.000000     9.000000        9.0  \n",
       "mean   1980.111111  0.111111    27.444444        1.0  \n",
       "std       1.833333  0.333333    46.333333        0.0  \n",
       "min    1978.000000  0.000000     0.000000        1.0  \n",
       "25%    1979.000000  0.000000     0.000000        1.0  \n",
       "50%    1979.000000  0.000000     0.000000        1.0  \n",
       "75%    1981.000000  0.000000    34.000000        1.0  \n",
       "max    1983.000000  1.000000   114.000000        1.0  "
      ]
     },
     "execution_count": 2,
     "metadata": {},
     "output_type": "execute_result"
    }
   ],
   "source": [
    "df = pd.read_csv('./artist_data.csv')\n",
    "df.describe()"
   ]
  },
  {
   "cell_type": "markdown",
   "metadata": {},
   "source": [
    "<h1>Visualise Duration vs Billboard Success and Spotify Success "
   ]
  },
  {
   "cell_type": "code",
   "execution_count": 5,
   "metadata": {},
   "outputs": [
    {
     "data": {
      "text/plain": [
       "<AxesSubplot:xlabel='duration', ylabel='e_billboard'>"
      ]
     },
     "execution_count": 5,
     "metadata": {},
     "output_type": "execute_result"
    },
    {
     "data": {
      "image/png": "[encoded data removed]",
      "text/plain": [
       "<Figure size 432x288 with 1 Axes>"
      ]
     },
     "metadata": {
      "needs_background": "light"
     },
     "output_type": "display_data"
    }
   ],
   "source": [
    "df.plot(x ='duration', y='e_billboard', kind = 'scatter')"
   ]
  },
  {
   "cell_type": "markdown",
   "metadata": {},
   "source": [
    "<h1>Visualise Key vs Billboard Success and Spotify Success"
   ]
  },
  {
   "cell_type": "code",
   "execution_count": 6,
   "metadata": {},
   "outputs": [
    {
     "data": {
      "text/plain": [
       "<AxesSubplot:xlabel='key', ylabel='e_billboard'>"
      ]
     },
     "execution_count": 6,
     "metadata": {},
     "output_type": "execute_result"
    },
    {
     "data": {
      "image/png": "[encoded data removed]",
      "text/plain": [
       "<Figure size 432x288 with 1 Axes>"
      ]
     },
     "metadata": {
      "needs_background": "light"
     },
     "output_type": "display_data"
    }
   ],
   "source": [
    "df.plot(x ='key', y='e_billboard', kind = 'scatter')"
   ]
  },
  {
   "cell_type": "markdown",
   "metadata": {},
   "source": [
    "<h1>Visualise Loudness vs Billboard Success and Spotify Success"
   ]
  },
  {
   "cell_type": "code",
   "execution_count": 7,
   "metadata": {},
   "outputs": [
    {
     "data": {
      "text/plain": [
       "<AxesSubplot:xlabel='loudness', ylabel='e_billboard'>"
      ]
     },
     "execution_count": 7,
     "metadata": {},
     "output_type": "execute_result"
    },
    {
     "data": {
      "image/png": "[encoded data removed]",
      "text/plain": [
       "<Figure size 432x288 with 1 Axes>"
      ]
     },
     "metadata": {
      "needs_background": "light"
     },
     "output_type": "display_data"
    }
   ],
   "source": [
    "df.plot(x ='loudness', y='e_billboard', kind = 'scatter')"
   ]
  },
  {
   "cell_type": "markdown",
   "metadata": {},
   "source": [
    "<h1>Visualise Mode vs Billboard Success and Spotify Success"
   ]
  },
  {
   "cell_type": "code",
   "execution_count": 10,
   "metadata": {},
   "outputs": [
    {
     "data": {
      "text/plain": [
       "<AxesSubplot:xlabel='mode', ylabel='e_billboard'>"
      ]
     },
     "execution_count": 10,
     "metadata": {},
     "output_type": "execute_result"
    },
    {
     "data": {
      "image/png": "[encoded data removed]",
      "text/plain": [
       "<Figure size 432x288 with 1 Axes>"
      ]
     },
     "metadata": {
      "needs_background": "light"
     },
     "output_type": "display_data"
    }
   ],
   "source": [
    "df.plot(x ='mode', y='e_billboard', kind = 'scatter')"
   ]
  },
  {
   "cell_type": "markdown",
   "metadata": {},
   "source": [
    "<h1>Visualise end_of_fade_in vs Billboard Success and Spotify Success"
   ]
  },
  {
   "cell_type": "code",
   "execution_count": 11,
   "metadata": {},
   "outputs": [
    {
     "data": {
      "text/plain": [
       "<AxesSubplot:xlabel='end_of_fade_in', ylabel='e_billboard'>"
      ]
     },
     "execution_count": 11,
     "metadata": {},
     "output_type": "execute_result"
    },
    {
     "data": {
      "image/png": "[encoded data removed]",
      "text/plain": [
       "<Figure size 432x288 with 1 Axes>"
      ]
     },
     "metadata": {
      "needs_background": "light"
     },
     "output_type": "display_data"
    }
   ],
   "source": [
    "df.plot(x = 'end_of_fade_in', y = 'e_billboard', kind = 'scatter')"
   ]
  },
  {
   "cell_type": "markdown",
   "metadata": {},
   "source": [
    "<h1>Visualise Tempo vs Billboard Success and Spotify Success"
   ]
  },
  {
   "cell_type": "code",
   "execution_count": 12,
   "metadata": {},
   "outputs": [
    {
     "data": {
      "text/plain": [
       "<AxesSubplot:xlabel='tempo', ylabel='e_billboard'>"
      ]
     },
     "execution_count": 12,
     "metadata": {},
     "output_type": "execute_result"
    },
    {
     "data": {
      "image/png": "[encoded data removed]",
      "text/plain": [
       "<Figure size 432x288 with 1 Axes>"
      ]
     },
     "metadata": {
      "needs_background": "light"
     },
     "output_type": "display_data"
    }
   ],
   "source": [
    "df.plot(x = 'tempo', y = 'e_billboard', kind = 'scatter')"
   ]
  },
  {
   "cell_type": "markdown",
   "metadata": {},
   "source": [
    "<h1>Visualise Time signature vs Billboard Success and Spotify Success"
   ]
  },
  {
   "cell_type": "code",
   "execution_count": 13,
   "metadata": {},
   "outputs": [
    {
     "data": {
      "text/plain": [
       "<AxesSubplot:xlabel='time_signature', ylabel='e_billboard'>"
      ]
     },
     "execution_count": 13,
     "metadata": {},
     "output_type": "execute_result"
    },
    {
     "data": {
      "image/png": "[encoded data removed]",
      "text/plain": [
       "<Figure size 432x288 with 1 Axes>"
      ]
     },
     "metadata": {
      "needs_background": "light"
     },
     "output_type": "display_data"
    }
   ],
   "source": [
    "df.plot(x = 'time_signature', y = 'e_billboard', kind = 'scatter')"
   ]
  },
  {
   "cell_type": "code",
   "execution_count": 15,
   "metadata": {},
   "outputs": [
    {
     "data": {
      "text/plain": [
       "<AxesSubplot:xlabel='year', ylabel='e_billboard'>"
      ]
     },
     "execution_count": 15,
     "metadata": {},
     "output_type": "execute_result"
    },
    {
     "data": {
      "image/png": "[encoded data removed]",
      "text/plain": [
       "<Figure size 432x288 with 1 Axes>"
      ]
     },
     "metadata": {
      "needs_background": "light"
     },
     "output_type": "display_data"
    }
   ],
   "source": [
    "df.plot(x = 'year', y = 'e_billboard', kind = 'scatter')"
   ]
  },
  {
   "cell_type": "code",
   "execution_count": null,
   "metadata": {},
   "outputs": [],
   "source": []
  }
 ],
 "metadata": {
  "interpreter": {
   "hash": "9cdacb074fd413ed432059c098981130e26492064e7604b5b2bccceb261aadee"
  },
  "kernelspec": {
   "display_name": "Python 3.8.10 64-bit (windows store)",
   "language": "python",
   "name": "python3"
  },
  "language_info": {
   "codemirror_mode": {
    "name": "ipython",
    "version": 3
   },
   "file_extension": ".py",
   "mimetype": "text/x-python",
   "name": "python",
   "nbconvert_exporter": "python",
   "pygments_lexer": "ipython3",
   "version": "3.8.10"
  },
  "orig_nbformat": 4
 },
 "nbformat": 4,
 "nbformat_minor": 2
}

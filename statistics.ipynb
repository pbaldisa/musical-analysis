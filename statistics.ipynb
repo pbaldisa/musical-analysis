{
 "cells": [
  {
   "cell_type": "code",
   "execution_count": 7,
   "metadata": {},
   "outputs": [],
   "source": [
    "import os\n",
    "import sys\n",
    "import glob\n",
    "import sqlite3\n",
    "import numpy as np\n",
    "import pandas as pd\n",
    "import seaborn as sns\n",
    "import matplotlib.pyplot as plt\n",
    "\n",
    "%matplotlib inline"
   ]
  },
  {
   "cell_type": "code",
   "execution_count": 68,
   "metadata": {},
   "outputs": [],
   "source": [
    "#By default returns a dataframe with only successful songs. Complementary = True, return the complementary subset\n",
    "def getSuccessfulSongs(df, colName, successType, complementary = False):\n",
    "    successCol = 'e_'+successType\n",
    "    #check if 1 when complementary == False, check 0 otherwise\n",
    "    return df[df[successCol] == (1 - complementary)][colName]\n",
    "    #TODO mirar si fer-ho amb query\n",
    "\n",
    "def getTable(df, colName):\n",
    "    return df[[colName, 'e_grammy']]\n",
    "\n",
    "#draw all the 7 boxplots we require for each column\n",
    "def drawAllBoxPlots(df, colName):\n",
    "\n",
    "    sns.boxplot(x = 'e_grammy', y = colName, data = getTable(df, 'price'))"
   ]
  },
  {
   "cell_type": "code",
   "execution_count": 69,
   "metadata": {},
   "outputs": [
    {
     "data": {
      "text/plain": [
       "count       3.000000\n",
       "mean      516.666667\n",
       "std       592.311855\n",
       "min       150.000000\n",
       "25%       175.000000\n",
       "50%       200.000000\n",
       "75%       700.000000\n",
       "max      1200.000000\n",
       "Name: price, dtype: float64"
      ]
     },
     "execution_count": 69,
     "metadata": {},
     "output_type": "execute_result"
    }
   ],
   "source": [
    "data = {'product_name': ['laptop', 'printer', 'tablet', 'desk', 'chair'],\n",
    "        'price': [1200, 150, 300, 450, 200],\n",
    "        'e_grammy': [1,1,0,0,1]\n",
    "        }\n",
    "df = pd.DataFrame(data)\n",
    "\n",
    "priceDf = getSuccessfulSongs(df, 'price', 'grammy')\n",
    "priceDf.describe()\n",
    "\n"
   ]
  },
  {
   "cell_type": "code",
   "execution_count": 70,
   "metadata": {},
   "outputs": [
    {
     "name": "stdout",
     "output_type": "stream",
     "text": [
      "   price  e_grammy\n",
      "0   1200         1\n",
      "1    150         1\n",
      "2    300         0\n",
      "3    450         0\n",
      "4    200         1\n"
     ]
    },
    {
     "data": {
      "image/png": "[encoded data removed]",
      "text/plain": [
       "<Figure size 432x288 with 1 Axes>"
      ]
     },
     "metadata": {
      "needs_background": "light"
     },
     "output_type": "display_data"
    }
   ],
   "source": [
    "print(getTable(df, 'price'))\n",
    "drawAllBoxPlots(df, 'price')"
   ]
  },
  {
   "cell_type": "code",
   "execution_count": null,
   "metadata": {},
   "outputs": [],
   "source": []
  },
  {
   "cell_type": "code",
   "execution_count": null,
   "metadata": {},
   "outputs": [],
   "source": []
  },
  {
   "cell_type": "code",
   "execution_count": null,
   "metadata": {},
   "outputs": [],
   "source": []
  }
 ],
 "metadata": {
  "interpreter": {
   "hash": "397704579725e15f5c7cb49fe5f0341eb7531c82d19f2c29d197e8b64ab5776b"
  },
  "kernelspec": {
   "display_name": "Python 3.9.0 64-bit",
   "language": "python",
   "name": "python3"
  },
  "language_info": {
   "codemirror_mode": {
    "name": "ipython",
    "version": 3
   },
   "file_extension": ".py",
   "mimetype": "text/x-python",
   "name": "python",
   "nbconvert_exporter": "python",
   "pygments_lexer": "ipython3",
   "version": "3.9.0"
  },
  "orig_nbformat": 4
 },
 "nbformat": 4,
 "nbformat_minor": 2
}

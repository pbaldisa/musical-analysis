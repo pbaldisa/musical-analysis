{
 "cells": [
  {
   "cell_type": "code",
   "execution_count": 2,
   "metadata": {},
   "outputs": [],
   "source": [
    "import pandas as pd\n"
   ]
  },
  {
   "cell_type": "code",
   "execution_count": 3,
   "metadata": {},
   "outputs": [],
   "source": [
    "df = pd.read_csv(\"./scripts_cleaning_successes/datasets/successes36000_with_spotify.csv\")"
   ]
  },
  {
   "cell_type": "code",
   "execution_count": 4,
   "metadata": {},
   "outputs": [],
   "source": [
    "def drop_specific_cols(df, cols):\n",
    "    df = df.drop(cols,axis=1)\n",
    "    return df\n",
    "\n",
    "def billboard_success(df):\n",
    "    df.loc[df[\"e_billboard\"] > 0, \"e_billboard\"] = 1\n",
    "    return df"
   ]
  },
  {
   "cell_type": "code",
   "execution_count": 5,
   "metadata": {},
   "outputs": [],
   "source": [
    "columns = ['Unnamed: 0', 'danceability','energy']\n",
    "cleaned_df = drop_specific_cols(df, columns)\n",
    "bill_df = drop_specific_cols(cleaned_df, ['e_grammy', 'e_spotify'])\n",
    "bill_df.to_csv(\"final_data_billboard.csv\")\n",
    "new_df = billboard_success(cleaned_df)\n",
    "new_df.to_csv(\"final_data.csv\", index=False)"
   ]
  },
  {
   "cell_type": "code",
   "execution_count": null,
   "metadata": {},
   "outputs": [],
   "source": []
  }
 ],
 "metadata": {
  "interpreter": {
   "hash": "916dbcbb3f70747c44a77c7bcd40155683ae19c65e1c03b4aa3499c5328201f1"
  },
  "kernelspec": {
   "display_name": "Python 3.9.7 64-bit",
   "language": "python",
   "name": "python3"
  },
  "language_info": {
   "codemirror_mode": {
    "name": "ipython",
    "version": 3
   },
   "file_extension": ".py",
   "mimetype": "text/x-python",
   "name": "python",
   "nbconvert_exporter": "python",
   "pygments_lexer": "ipython3",
   "version": "3.9.7"
  },
  "orig_nbformat": 4
 },
 "nbformat": 4,
 "nbformat_minor": 2
}

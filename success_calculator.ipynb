{
 "cells": [
  {
   "cell_type": "markdown",
   "id": "84e39ca4",
   "metadata": {},
   "source": [
    "# Càlcul de l'èxit de cada cançó\n",
    "En aquest notebook netejarem el dataset Million Songs Dataset.\n",
    "Un cop treballem amb un csv de menor envergadura, trobarem les cançons\n",
    "coincidents amb els csv billboard, grammy i spotify popularity per\n",
    "per assignar a aquelles cançons una major puntuació d'èxit."
   ]
  },
  {
   "cell_type": "markdown",
   "id": "24c5cf44",
   "metadata": {},
   "source": [
    "Left join entre les taules grammy i msd, join en la columna \"títol de la cançó\", corresponent a \"nominee\" en grammy i \"title\" en msd."
   ]
  },
  {
   "cell_type": "code",
   "execution_count": null,
   "id": "09f8bcea",
   "metadata": {},
   "outputs": [],
   "source": [
    "import pandas as pd\n",
    "\n",
    "# matches between grammy and msd\n",
    "grammy = pd.read_csv('datasets/grammy_1958_2019.csv')\n",
    "msd = pd.read_csv('datasets/msd_summary.csv')\n",
    "combined = pd.merge(grammy, msd, left_on='nominee', right_on='title')\n",
    "print(combined)"
   ]
  }
 ],
 "metadata": {
  "kernelspec": {
   "display_name": "Python 3 (ipykernel)",
   "language": "python",
   "name": "python3"
  },
  "language_info": {
   "codemirror_mode": {
    "name": "ipython",
    "version": 3
   },
   "file_extension": ".py",
   "mimetype": "text/x-python",
   "name": "python",
   "nbconvert_exporter": "python",
   "pygments_lexer": "ipython3",
   "version": "3.7.12"
  }
 },
 "nbformat": 4,
 "nbformat_minor": 5
}

{
 "cells": [
  {
   "cell_type": "code",
   "execution_count": 87,
   "metadata": {},
   "outputs": [],
   "source": [
    "import pandas as pd\n",
    "from sklearn.model_selection import train_test_split\n",
    "from sklearn.ensemble import RandomForestClassifier\n",
    "from sklearn.svm import SVC\n",
    "from sklearn.neighbors import KNeighborsClassifier\n",
    "from sklearn.linear_model import LogisticRegression\n",
    "from sklearn.metrics import mean_absolute_error\n",
    "from sklearn.metrics import classification_report, confusion_matrix, accuracy_score\n",
    "from sklearn.metrics import ConfusionMatrixDisplay\n",
    "from sklearn.pipeline import make_pipeline\n",
    "from sklearn.preprocessing import StandardScaler\n",
    "import matplotlib.pyplot as plt"
   ]
  },
  {
   "cell_type": "code",
   "execution_count": 208,
   "metadata": {},
   "outputs": [],
   "source": [
    "grammy_df = pd.read_csv('./final_data.csv')"
   ]
  },
  {
   "cell_type": "code",
   "execution_count": 209,
   "metadata": {},
   "outputs": [],
   "source": [
    "def drop_specific_cols(df, cols):\n",
    "    df = df.drop(cols,axis=1)\n",
    "    return df\n",
    "\n",
    "def results(y, preds):\n",
    "    print('Matrix confusion:')\n",
    "    ConfusionMatrixDisplay.from_predictions( y, preds)\n",
    "    plt.show()\n",
    "    print('Classification report: \\n',classification_report(y,preds,zero_division=True))\n",
    "    print('Accuracy score: \\n', accuracy_score(y, preds))\n",
    "    print('Absolute error:\\n',mean_absolute_error(y, preds))"
   ]
  },
  {
   "cell_type": "code",
   "execution_count": 210,
   "metadata": {},
   "outputs": [],
   "source": [
    "grammy_df = drop_specific_cols(grammy_df, ['e_spotify', 'e_billboard'])\n"
   ]
  },
  {
   "cell_type": "code",
   "execution_count": 211,
   "metadata": {},
   "outputs": [],
   "source": [
    "#variable to predict\n",
    "y = grammy_df.e_grammy"
   ]
  },
  {
   "cell_type": "code",
   "execution_count": 212,
   "metadata": {},
   "outputs": [],
   "source": [
    "#features\n",
    "#we do not consider 'key' based on boxplot observation (title and artist name are not physical variables)\n",
    "grammy_features = ['duration', 'end_of_fade_in', 'loudness', 'mode','start_of_fade_out', 'tempo', 'time_signature']\n",
    "X = grammy_df[grammy_features]"
   ]
  },
  {
   "cell_type": "code",
   "execution_count": 213,
   "metadata": {},
   "outputs": [],
   "source": [
    "train_X, val_X, train_y, val_y = train_test_split(X, y,random_state = 0, test_size=0.25)"
   ]
  },
  {
   "cell_type": "code",
   "execution_count": 214,
   "metadata": {},
   "outputs": [],
   "source": [
    "forest_model = RandomForestClassifier(random_state=1)\n",
    "forest_model.fit(train_X, train_y)\n",
    "rf_grammy_preds = forest_model.predict(val_X)"
   ]
  },
  {
   "cell_type": "code",
   "execution_count": 215,
   "metadata": {},
   "outputs": [
    {
     "name": "stdout",
     "output_type": "stream",
     "text": [
      "Matrix confusion:\n"
     ]
    },
    {
     "data": {
      "image/png": "[encoded data removed]",
      "text/plain": [
       "<Figure size 432x288 with 2 Axes>"
      ]
     },
     "metadata": {
      "needs_background": "light"
     },
     "output_type": "display_data"
    },
    {
     "name": "stdout",
     "output_type": "stream",
     "text": [
      "Classification report: \n",
      "               precision    recall  f1-score   support\n",
      "\n",
      "           0       0.99      1.00      1.00      2482\n",
      "           1       1.00      0.05      0.09        21\n",
      "\n",
      "    accuracy                           0.99      2503\n",
      "   macro avg       1.00      0.52      0.54      2503\n",
      "weighted avg       0.99      0.99      0.99      2503\n",
      "\n",
      "Accuracy score: \n",
      " 0.9920095884938074\n",
      "Absolute error:\n",
      " 0.007990411506192568\n"
     ]
    }
   ],
   "source": [
    "results(val_y, rf_grammy_preds)"
   ]
  },
  {
   "cell_type": "code",
   "execution_count": 216,
   "metadata": {},
   "outputs": [],
   "source": [
    "train_X, val_X, train_y, val_y = train_test_split(X, y,random_state = 0, test_size=0.25)\n",
    "scaler = StandardScaler()\n",
    "scaler.fit(train_X)\n",
    "\n",
    "train_X = scaler.transform(train_X)\n",
    "val_X = scaler.transform(val_X)"
   ]
  },
  {
   "cell_type": "code",
   "execution_count": 217,
   "metadata": {},
   "outputs": [],
   "source": [
    "svm_model = SVC(kernel='sigmoid', random_state=1)\n",
    "svm_model.fit(train_X, train_y)\n",
    "svm_grammy_preds = svm_model.predict(val_X)"
   ]
  },
  {
   "cell_type": "code",
   "execution_count": 218,
   "metadata": {},
   "outputs": [
    {
     "name": "stdout",
     "output_type": "stream",
     "text": [
      "Matrix confusion:\n"
     ]
    },
    {
     "data": {
      "image/png": "[encoded data removed]",
      "text/plain": [
       "<Figure size 432x288 with 2 Axes>"
      ]
     },
     "metadata": {
      "needs_background": "light"
     },
     "output_type": "display_data"
    },
    {
     "name": "stdout",
     "output_type": "stream",
     "text": [
      "Classification report: \n",
      "               precision    recall  f1-score   support\n",
      "\n",
      "           0       0.99      0.99      0.99      2482\n",
      "           1       0.00      0.00      0.00        21\n",
      "\n",
      "    accuracy                           0.98      2503\n",
      "   macro avg       0.50      0.50      0.50      2503\n",
      "weighted avg       0.98      0.98      0.98      2503\n",
      "\n",
      "Accuracy score: \n",
      " 0.9820215741110667\n",
      "Absolute error:\n",
      " 0.01797842588893328\n"
     ]
    }
   ],
   "source": [
    "results(val_y, svm_grammy_preds)"
   ]
  },
  {
   "cell_type": "code",
   "execution_count": 219,
   "metadata": {},
   "outputs": [],
   "source": [
    "train_X, val_X, train_y, val_y = train_test_split(X, y,random_state = 0, test_size=0.25)\n",
    "scaler = StandardScaler()\n",
    "scaler.fit(train_X)\n",
    "\n",
    "train_X = scaler.transform(train_X)\n",
    "val_X = scaler.transform(val_X)"
   ]
  },
  {
   "cell_type": "code",
   "execution_count": 220,
   "metadata": {},
   "outputs": [],
   "source": [
    "knn_model = KNeighborsClassifier(n_neighbors=5)\n",
    "knn_model.fit(train_X, train_y)\n",
    "knn_grammy_preds = knn_model.predict(val_X)"
   ]
  },
  {
   "cell_type": "code",
   "execution_count": 221,
   "metadata": {},
   "outputs": [
    {
     "name": "stdout",
     "output_type": "stream",
     "text": [
      "Matrix confusion:\n"
     ]
    },
    {
     "data": {
      "image/png": "[encoded data removed]",
      "text/plain": [
       "<Figure size 432x288 with 2 Axes>"
      ]
     },
     "metadata": {
      "needs_background": "light"
     },
     "output_type": "display_data"
    },
    {
     "name": "stdout",
     "output_type": "stream",
     "text": [
      "Classification report: \n",
      "               precision    recall  f1-score   support\n",
      "\n",
      "           0       0.99      1.00      1.00      2482\n",
      "           1       1.00      0.00      0.00        21\n",
      "\n",
      "    accuracy                           0.99      2503\n",
      "   macro avg       1.00      0.50      0.50      2503\n",
      "weighted avg       0.99      0.99      0.99      2503\n",
      "\n",
      "Accuracy score: \n",
      " 0.9916100679184978\n",
      "Absolute error:\n",
      " 0.008389932081502197\n"
     ]
    }
   ],
   "source": [
    "results(val_y, knn_grammy_preds)"
   ]
  },
  {
   "cell_type": "code",
   "execution_count": 227,
   "metadata": {},
   "outputs": [],
   "source": [
    "train_X, val_X, train_y, val_y = train_test_split(X, y,random_state = 0, test_size=0.25)\n",
    "scaler = StandardScaler()\n",
    "scaler.fit(train_X)\n",
    "\n",
    "train_X = scaler.transform(train_X)\n",
    "val_X = scaler.transform(val_X)"
   ]
  },
  {
   "cell_type": "code",
   "execution_count": 228,
   "metadata": {},
   "outputs": [],
   "source": [
    "logistic_model = LogisticRegression(random_state=1, solver='lbfgs', multi_class='ovr')\n",
    "logistic_model.fit(train_X, train_y)\n",
    "logistic_grammy_preds = logistic_model.predict(val_X)"
   ]
  },
  {
   "cell_type": "code",
   "execution_count": 229,
   "metadata": {},
   "outputs": [
    {
     "name": "stdout",
     "output_type": "stream",
     "text": [
      "Matrix confusion:\n"
     ]
    },
    {
     "data": {
      "image/png": "[encoded data removed]",
      "text/plain": [
       "<Figure size 432x288 with 2 Axes>"
      ]
     },
     "metadata": {
      "needs_background": "light"
     },
     "output_type": "display_data"
    },
    {
     "name": "stdout",
     "output_type": "stream",
     "text": [
      "Classification report: \n",
      "               precision    recall  f1-score   support\n",
      "\n",
      "           0       0.99      1.00      1.00      2482\n",
      "           1       1.00      0.00      0.00        21\n",
      "\n",
      "    accuracy                           0.99      2503\n",
      "   macro avg       1.00      0.50      0.50      2503\n",
      "weighted avg       0.99      0.99      0.99      2503\n",
      "\n",
      "Accuracy score: \n",
      " 0.9916100679184978\n",
      "Absolute error:\n",
      " 0.008389932081502197\n"
     ]
    }
   ],
   "source": [
    "results(val_y, logistic_grammy_preds)"
   ]
  },
  {
   "cell_type": "code",
   "execution_count": null,
   "metadata": {},
   "outputs": [],
   "source": []
  }
 ],
 "metadata": {
  "interpreter": {
   "hash": "9cdacb074fd413ed432059c098981130e26492064e7604b5b2bccceb261aadee"
  },
  "kernelspec": {
   "display_name": "Python 3.8.10 64-bit (windows store)",
   "language": "python",
   "name": "python3"
  },
  "language_info": {
   "codemirror_mode": {
    "name": "ipython",
    "version": 3
   },
   "file_extension": ".py",
   "mimetype": "text/x-python",
   "name": "python",
   "nbconvert_exporter": "python",
   "pygments_lexer": "ipython3",
   "version": "3.8.10"
  },
  "orig_nbformat": 4
 },
 "nbformat": 4,
 "nbformat_minor": 2
}
